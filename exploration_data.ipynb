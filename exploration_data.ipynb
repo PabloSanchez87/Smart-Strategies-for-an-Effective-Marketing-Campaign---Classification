{
 "cells": [
  {
   "cell_type": "markdown",
   "metadata": {},
   "source": [
    "# Funciones"
   ]
  },
  {
   "cell_type": "code",
   "execution_count": 1,
   "metadata": {},
   "outputs": [],
   "source": [
    "import seaborn as sns\n",
    "import matplotlib.pyplot as plt\n",
    "\n",
    "def plot_scatter_variables(df, target, variables=None):\n",
    "    if variables is None:\n",
    "        variables = df.select_dtypes(include=[\"int64\", \"float64\"]).columns.tolist()\n",
    "        variables.remove(target)  # Eliminamos la variable objetivo\n",
    "\n",
    "    num_vars = len(variables)\n",
    "    cols = 3  # Número de columnas en la cuadrícula de subplots\n",
    "    rows = (num_vars // cols) + (num_vars % cols > 0)  # Ajustar número de filas\n",
    "    \n",
    "    fig, axes = plt.subplots(rows, cols, figsize=(cols * 5, rows * 4))\n",
    "    axes = axes.flatten()  # Convertimos en un array 1D para indexar fácilmente\n",
    "\n",
    "    for i, var in enumerate(variables):\n",
    "        sns.scatterplot(x=df[var], y=df[target], ax=axes[i], alpha=0.6)\n",
    "        axes[i].set_xlabel(var)\n",
    "        axes[i].set_ylabel(target)\n",
    "        axes[i].set_title(f'{var} vs {target}')\n",
    "    \n",
    "    # Ocultar ejes vacíos si sobran\n",
    "    for j in range(i + 1, len(axes)):\n",
    "        fig.delaxes(axes[j])\n",
    "\n",
    "    plt.tight_layout()\n",
    "    plt.show()\n",
    "    \n",
    "def plot_correlation_heatmap(df, method=None):\n",
    "    numeric_cols = df.select_dtypes(include=[\"int64\", \"float64\"]).columns  # Solo numéricas\n",
    "    corr_matrix = df[numeric_cols].corr(method=method) if method else df[numeric_cols].corr()\n",
    "\n",
    "    plt.figure(figsize=(12, 8))\n",
    "    sns.heatmap(corr_matrix, annot=True, cmap=\"coolwarm\", fmt='.2f', linewidths=0.5, cbar=True)\n",
    "    plt.title('Correlación entre las Variables')\n",
    "    plt.show()"
   ]
  },
  {
   "cell_type": "markdown",
   "metadata": {},
   "source": [
    "# Carga de datos"
   ]
  },
  {
   "cell_type": "code",
   "execution_count": 2,
   "metadata": {},
   "outputs": [],
   "source": [
    "import pandas as pd\n",
    "\n",
    "# Cargar los datos\n",
    "user_data = pd.read_csv(\"../train/user_train.csv\")\n",
    "session_data = pd.read_csv(\"../train/session_train.csv\")"
   ]
  },
  {
   "cell_type": "code",
   "execution_count": 3,
   "metadata": {},
   "outputs": [
    {
     "data": {
      "application/vnd.microsoft.datawrangler.viewer.v0+json": {
       "columns": [
        {
         "name": "index",
         "rawType": "int64",
         "type": "integer"
        },
        {
         "name": "user_id",
         "rawType": "object",
         "type": "string"
        },
        {
         "name": "session_id",
         "rawType": "object",
         "type": "string"
        },
        {
         "name": "timestamp",
         "rawType": "object",
         "type": "string"
        },
        {
         "name": "device_type",
         "rawType": "object",
         "type": "string"
        },
        {
         "name": "browser",
         "rawType": "object",
         "type": "string"
        },
        {
         "name": "operating_system",
         "rawType": "object",
         "type": "string"
        },
        {
         "name": "ip_address",
         "rawType": "object",
         "type": "string"
        },
        {
         "name": "country",
         "rawType": "object",
         "type": "string"
        },
        {
         "name": "search_query",
         "rawType": "object",
         "type": "string"
        },
        {
         "name": "page_views",
         "rawType": "int64",
         "type": "integer"
        },
        {
         "name": "session_duration",
         "rawType": "int64",
         "type": "integer"
        }
       ],
       "conversionMethod": "pd.DataFrame",
       "ref": "aca3a603-f317-47c3-9a15-c3cc0b071b1b",
       "rows": [
        [
         "0",
         "64ec8ab8-a6f5-491f-8c1a-e6cd28f4471b",
         "0b98d388-87f7-4202-b2ab-b63cb7aea9bc",
         "2023-09-06 18:10:01",
         "mobile",
         "Firefox",
         "iOS",
         "17.236.24.58",
         "Saudi Arabia",
         "Left myself writer decision plan few.",
         "8",
         "54"
        ],
        [
         "1",
         "64ec8ab8-a6f5-491f-8c1a-e6cd28f4471b",
         "fb626371-21a7-453b-a9ff-67a7a53ac19c",
         "2023-04-02 23:09:10",
         "desktop",
         "Edge",
         "Linux",
         "92.110.53.157",
         "Eritrea",
         "Prevent state action sure save.",
         "9",
         "255"
        ],
        [
         "2",
         "64ec8ab8-a6f5-491f-8c1a-e6cd28f4471b",
         "b51b4fa7-a79a-44fc-bf41-3b6079d676fb",
         "2023-08-09 08:07:32",
         "mobile",
         "Firefox",
         "Windows",
         "110.203.61.8",
         "Mali",
         "Hear write edge you skill newspaper.",
         "3",
         "296"
        ],
        [
         "3",
         "64ec8ab8-a6f5-491f-8c1a-e6cd28f4471b",
         "41ca9c65-c0f4-47fa-ad36-6652e3bc59a6",
         "2023-08-13 11:20:40",
         "tablet",
         "Edge",
         "iOS",
         "190.106.161.28",
         "Barbados",
         "Thing standard teach same arrive.",
         "8",
         "217"
        ],
        [
         "4",
         "64ec8ab8-a6f5-491f-8c1a-e6cd28f4471b",
         "5f90aa6e-2395-4eba-919a-cc27c9fa1eac",
         "2023-03-23 13:34:47",
         "desktop",
         "Edge",
         "iOS",
         "33.69.13.184",
         "San Marino",
         "Choice hear stand avoid clear material nothing.",
         "9",
         "229"
        ]
       ],
       "shape": {
        "columns": 11,
        "rows": 5
       }
      },
      "text/html": [
       "<div>\n",
       "<style scoped>\n",
       "    .dataframe tbody tr th:only-of-type {\n",
       "        vertical-align: middle;\n",
       "    }\n",
       "\n",
       "    .dataframe tbody tr th {\n",
       "        vertical-align: top;\n",
       "    }\n",
       "\n",
       "    .dataframe thead th {\n",
       "        text-align: right;\n",
       "    }\n",
       "</style>\n",
       "<table border=\"1\" class=\"dataframe\">\n",
       "  <thead>\n",
       "    <tr style=\"text-align: right;\">\n",
       "      <th></th>\n",
       "      <th>user_id</th>\n",
       "      <th>session_id</th>\n",
       "      <th>timestamp</th>\n",
       "      <th>device_type</th>\n",
       "      <th>browser</th>\n",
       "      <th>operating_system</th>\n",
       "      <th>ip_address</th>\n",
       "      <th>country</th>\n",
       "      <th>search_query</th>\n",
       "      <th>page_views</th>\n",
       "      <th>session_duration</th>\n",
       "    </tr>\n",
       "  </thead>\n",
       "  <tbody>\n",
       "    <tr>\n",
       "      <th>0</th>\n",
       "      <td>64ec8ab8-a6f5-491f-8c1a-e6cd28f4471b</td>\n",
       "      <td>0b98d388-87f7-4202-b2ab-b63cb7aea9bc</td>\n",
       "      <td>2023-09-06 18:10:01</td>\n",
       "      <td>mobile</td>\n",
       "      <td>Firefox</td>\n",
       "      <td>iOS</td>\n",
       "      <td>17.236.24.58</td>\n",
       "      <td>Saudi Arabia</td>\n",
       "      <td>Left myself writer decision plan few.</td>\n",
       "      <td>8</td>\n",
       "      <td>54</td>\n",
       "    </tr>\n",
       "    <tr>\n",
       "      <th>1</th>\n",
       "      <td>64ec8ab8-a6f5-491f-8c1a-e6cd28f4471b</td>\n",
       "      <td>fb626371-21a7-453b-a9ff-67a7a53ac19c</td>\n",
       "      <td>2023-04-02 23:09:10</td>\n",
       "      <td>desktop</td>\n",
       "      <td>Edge</td>\n",
       "      <td>Linux</td>\n",
       "      <td>92.110.53.157</td>\n",
       "      <td>Eritrea</td>\n",
       "      <td>Prevent state action sure save.</td>\n",
       "      <td>9</td>\n",
       "      <td>255</td>\n",
       "    </tr>\n",
       "    <tr>\n",
       "      <th>2</th>\n",
       "      <td>64ec8ab8-a6f5-491f-8c1a-e6cd28f4471b</td>\n",
       "      <td>b51b4fa7-a79a-44fc-bf41-3b6079d676fb</td>\n",
       "      <td>2023-08-09 08:07:32</td>\n",
       "      <td>mobile</td>\n",
       "      <td>Firefox</td>\n",
       "      <td>Windows</td>\n",
       "      <td>110.203.61.8</td>\n",
       "      <td>Mali</td>\n",
       "      <td>Hear write edge you skill newspaper.</td>\n",
       "      <td>3</td>\n",
       "      <td>296</td>\n",
       "    </tr>\n",
       "    <tr>\n",
       "      <th>3</th>\n",
       "      <td>64ec8ab8-a6f5-491f-8c1a-e6cd28f4471b</td>\n",
       "      <td>41ca9c65-c0f4-47fa-ad36-6652e3bc59a6</td>\n",
       "      <td>2023-08-13 11:20:40</td>\n",
       "      <td>tablet</td>\n",
       "      <td>Edge</td>\n",
       "      <td>iOS</td>\n",
       "      <td>190.106.161.28</td>\n",
       "      <td>Barbados</td>\n",
       "      <td>Thing standard teach same arrive.</td>\n",
       "      <td>8</td>\n",
       "      <td>217</td>\n",
       "    </tr>\n",
       "    <tr>\n",
       "      <th>4</th>\n",
       "      <td>64ec8ab8-a6f5-491f-8c1a-e6cd28f4471b</td>\n",
       "      <td>5f90aa6e-2395-4eba-919a-cc27c9fa1eac</td>\n",
       "      <td>2023-03-23 13:34:47</td>\n",
       "      <td>desktop</td>\n",
       "      <td>Edge</td>\n",
       "      <td>iOS</td>\n",
       "      <td>33.69.13.184</td>\n",
       "      <td>San Marino</td>\n",
       "      <td>Choice hear stand avoid clear material nothing.</td>\n",
       "      <td>9</td>\n",
       "      <td>229</td>\n",
       "    </tr>\n",
       "  </tbody>\n",
       "</table>\n",
       "</div>"
      ],
      "text/plain": [
       "                                user_id                            session_id  \\\n",
       "0  64ec8ab8-a6f5-491f-8c1a-e6cd28f4471b  0b98d388-87f7-4202-b2ab-b63cb7aea9bc   \n",
       "1  64ec8ab8-a6f5-491f-8c1a-e6cd28f4471b  fb626371-21a7-453b-a9ff-67a7a53ac19c   \n",
       "2  64ec8ab8-a6f5-491f-8c1a-e6cd28f4471b  b51b4fa7-a79a-44fc-bf41-3b6079d676fb   \n",
       "3  64ec8ab8-a6f5-491f-8c1a-e6cd28f4471b  41ca9c65-c0f4-47fa-ad36-6652e3bc59a6   \n",
       "4  64ec8ab8-a6f5-491f-8c1a-e6cd28f4471b  5f90aa6e-2395-4eba-919a-cc27c9fa1eac   \n",
       "\n",
       "             timestamp device_type  browser operating_system      ip_address  \\\n",
       "0  2023-09-06 18:10:01      mobile  Firefox              iOS    17.236.24.58   \n",
       "1  2023-04-02 23:09:10     desktop     Edge            Linux   92.110.53.157   \n",
       "2  2023-08-09 08:07:32      mobile  Firefox          Windows    110.203.61.8   \n",
       "3  2023-08-13 11:20:40      tablet     Edge              iOS  190.106.161.28   \n",
       "4  2023-03-23 13:34:47     desktop     Edge              iOS    33.69.13.184   \n",
       "\n",
       "        country                                     search_query  page_views  \\\n",
       "0  Saudi Arabia            Left myself writer decision plan few.           8   \n",
       "1       Eritrea                  Prevent state action sure save.           9   \n",
       "2          Mali             Hear write edge you skill newspaper.           3   \n",
       "3      Barbados                Thing standard teach same arrive.           8   \n",
       "4    San Marino  Choice hear stand avoid clear material nothing.           9   \n",
       "\n",
       "   session_duration  \n",
       "0                54  \n",
       "1               255  \n",
       "2               296  \n",
       "3               217  \n",
       "4               229  "
      ]
     },
     "execution_count": 3,
     "metadata": {},
     "output_type": "execute_result"
    }
   ],
   "source": [
    "session_data.head()"
   ]
  },
  {
   "cell_type": "code",
   "execution_count": 4,
   "metadata": {},
   "outputs": [
    {
     "data": {
      "application/vnd.microsoft.datawrangler.viewer.v0+json": {
       "columns": [
        {
         "name": "index",
         "rawType": "int64",
         "type": "integer"
        },
        {
         "name": "user_id;age;abandoned_cart;user_category;marketing_target",
         "rawType": "object",
         "type": "string"
        }
       ],
       "conversionMethod": "pd.DataFrame",
       "ref": "5f649c75-0fce-422a-a720-94680aae86d8",
       "rows": [
        [
         "0",
         "a806c313-9bc3-4c1b-bdc4-24e9b0cdec8e;28;FALSE;premium_subscriber;1"
        ],
        [
         "1",
         "c93cb31f-dab2-4d8f-b8de-ec5466b764c1;54;FALSE;premium_subscriber;1"
        ],
        [
         "2",
         "262c06e0-96d7-45bc-bbff-060bae8a6f52;23;TRUE;premium_subscriber;1"
        ],
        [
         "3",
         "3eb387fe-6afc-4e23-9e3c-26457d97e446;53;FALSE;recurring_user;1"
        ],
        [
         "4",
         "65596ffc-3bf1-4d45-8589-37bfce2f4d72;62;FALSE;recurring_user;1"
        ]
       ],
       "shape": {
        "columns": 1,
        "rows": 5
       }
      },
      "text/html": [
       "<div>\n",
       "<style scoped>\n",
       "    .dataframe tbody tr th:only-of-type {\n",
       "        vertical-align: middle;\n",
       "    }\n",
       "\n",
       "    .dataframe tbody tr th {\n",
       "        vertical-align: top;\n",
       "    }\n",
       "\n",
       "    .dataframe thead th {\n",
       "        text-align: right;\n",
       "    }\n",
       "</style>\n",
       "<table border=\"1\" class=\"dataframe\">\n",
       "  <thead>\n",
       "    <tr style=\"text-align: right;\">\n",
       "      <th></th>\n",
       "      <th>user_id;age;abandoned_cart;user_category;marketing_target</th>\n",
       "    </tr>\n",
       "  </thead>\n",
       "  <tbody>\n",
       "    <tr>\n",
       "      <th>0</th>\n",
       "      <td>a806c313-9bc3-4c1b-bdc4-24e9b0cdec8e;28;FALSE;...</td>\n",
       "    </tr>\n",
       "    <tr>\n",
       "      <th>1</th>\n",
       "      <td>c93cb31f-dab2-4d8f-b8de-ec5466b764c1;54;FALSE;...</td>\n",
       "    </tr>\n",
       "    <tr>\n",
       "      <th>2</th>\n",
       "      <td>262c06e0-96d7-45bc-bbff-060bae8a6f52;23;TRUE;p...</td>\n",
       "    </tr>\n",
       "    <tr>\n",
       "      <th>3</th>\n",
       "      <td>3eb387fe-6afc-4e23-9e3c-26457d97e446;53;FALSE;...</td>\n",
       "    </tr>\n",
       "    <tr>\n",
       "      <th>4</th>\n",
       "      <td>65596ffc-3bf1-4d45-8589-37bfce2f4d72;62;FALSE;...</td>\n",
       "    </tr>\n",
       "  </tbody>\n",
       "</table>\n",
       "</div>"
      ],
      "text/plain": [
       "  user_id;age;abandoned_cart;user_category;marketing_target\n",
       "0  a806c313-9bc3-4c1b-bdc4-24e9b0cdec8e;28;FALSE;...       \n",
       "1  c93cb31f-dab2-4d8f-b8de-ec5466b764c1;54;FALSE;...       \n",
       "2  262c06e0-96d7-45bc-bbff-060bae8a6f52;23;TRUE;p...       \n",
       "3  3eb387fe-6afc-4e23-9e3c-26457d97e446;53;FALSE;...       \n",
       "4  65596ffc-3bf1-4d45-8589-37bfce2f4d72;62;FALSE;...       "
      ]
     },
     "execution_count": 4,
     "metadata": {},
     "output_type": "execute_result"
    }
   ],
   "source": [
    "user_data.head()"
   ]
  },
  {
   "cell_type": "markdown",
   "metadata": {},
   "source": [
    "## Corregimos formato user_data"
   ]
  },
  {
   "cell_type": "code",
   "execution_count": 5,
   "metadata": {},
   "outputs": [
    {
     "data": {
      "application/vnd.microsoft.datawrangler.viewer.v0+json": {
       "columns": [
        {
         "name": "index",
         "rawType": "int64",
         "type": "integer"
        },
        {
         "name": "user_id",
         "rawType": "object",
         "type": "string"
        },
        {
         "name": "age",
         "rawType": "int64",
         "type": "integer"
        },
        {
         "name": "abandoned_cart",
         "rawType": "bool",
         "type": "boolean"
        },
        {
         "name": "user_category",
         "rawType": "object",
         "type": "string"
        },
        {
         "name": "marketing_target",
         "rawType": "int64",
         "type": "integer"
        }
       ],
       "conversionMethod": "pd.DataFrame",
       "ref": "b73e2bd1-3ac8-44e3-ab10-107304f0e7a6",
       "rows": [
        [
         "0",
         "a806c313-9bc3-4c1b-bdc4-24e9b0cdec8e",
         "28",
         "False",
         "premium_subscriber",
         "1"
        ],
        [
         "1",
         "c93cb31f-dab2-4d8f-b8de-ec5466b764c1",
         "54",
         "False",
         "premium_subscriber",
         "1"
        ],
        [
         "2",
         "262c06e0-96d7-45bc-bbff-060bae8a6f52",
         "23",
         "True",
         "premium_subscriber",
         "1"
        ],
        [
         "3",
         "3eb387fe-6afc-4e23-9e3c-26457d97e446",
         "53",
         "False",
         "recurring_user",
         "1"
        ],
        [
         "4",
         "65596ffc-3bf1-4d45-8589-37bfce2f4d72",
         "62",
         "False",
         "recurring_user",
         "1"
        ]
       ],
       "shape": {
        "columns": 5,
        "rows": 5
       }
      },
      "text/html": [
       "<div>\n",
       "<style scoped>\n",
       "    .dataframe tbody tr th:only-of-type {\n",
       "        vertical-align: middle;\n",
       "    }\n",
       "\n",
       "    .dataframe tbody tr th {\n",
       "        vertical-align: top;\n",
       "    }\n",
       "\n",
       "    .dataframe thead th {\n",
       "        text-align: right;\n",
       "    }\n",
       "</style>\n",
       "<table border=\"1\" class=\"dataframe\">\n",
       "  <thead>\n",
       "    <tr style=\"text-align: right;\">\n",
       "      <th></th>\n",
       "      <th>user_id</th>\n",
       "      <th>age</th>\n",
       "      <th>abandoned_cart</th>\n",
       "      <th>user_category</th>\n",
       "      <th>marketing_target</th>\n",
       "    </tr>\n",
       "  </thead>\n",
       "  <tbody>\n",
       "    <tr>\n",
       "      <th>0</th>\n",
       "      <td>a806c313-9bc3-4c1b-bdc4-24e9b0cdec8e</td>\n",
       "      <td>28</td>\n",
       "      <td>False</td>\n",
       "      <td>premium_subscriber</td>\n",
       "      <td>1</td>\n",
       "    </tr>\n",
       "    <tr>\n",
       "      <th>1</th>\n",
       "      <td>c93cb31f-dab2-4d8f-b8de-ec5466b764c1</td>\n",
       "      <td>54</td>\n",
       "      <td>False</td>\n",
       "      <td>premium_subscriber</td>\n",
       "      <td>1</td>\n",
       "    </tr>\n",
       "    <tr>\n",
       "      <th>2</th>\n",
       "      <td>262c06e0-96d7-45bc-bbff-060bae8a6f52</td>\n",
       "      <td>23</td>\n",
       "      <td>True</td>\n",
       "      <td>premium_subscriber</td>\n",
       "      <td>1</td>\n",
       "    </tr>\n",
       "    <tr>\n",
       "      <th>3</th>\n",
       "      <td>3eb387fe-6afc-4e23-9e3c-26457d97e446</td>\n",
       "      <td>53</td>\n",
       "      <td>False</td>\n",
       "      <td>recurring_user</td>\n",
       "      <td>1</td>\n",
       "    </tr>\n",
       "    <tr>\n",
       "      <th>4</th>\n",
       "      <td>65596ffc-3bf1-4d45-8589-37bfce2f4d72</td>\n",
       "      <td>62</td>\n",
       "      <td>False</td>\n",
       "      <td>recurring_user</td>\n",
       "      <td>1</td>\n",
       "    </tr>\n",
       "  </tbody>\n",
       "</table>\n",
       "</div>"
      ],
      "text/plain": [
       "                                user_id  age  abandoned_cart  \\\n",
       "0  a806c313-9bc3-4c1b-bdc4-24e9b0cdec8e   28           False   \n",
       "1  c93cb31f-dab2-4d8f-b8de-ec5466b764c1   54           False   \n",
       "2  262c06e0-96d7-45bc-bbff-060bae8a6f52   23            True   \n",
       "3  3eb387fe-6afc-4e23-9e3c-26457d97e446   53           False   \n",
       "4  65596ffc-3bf1-4d45-8589-37bfce2f4d72   62           False   \n",
       "\n",
       "        user_category  marketing_target  \n",
       "0  premium_subscriber                 1  \n",
       "1  premium_subscriber                 1  \n",
       "2  premium_subscriber                 1  \n",
       "3      recurring_user                 1  \n",
       "4      recurring_user                 1  "
      ]
     },
     "execution_count": 5,
     "metadata": {},
     "output_type": "execute_result"
    }
   ],
   "source": [
    "user_data = pd.read_csv(\"../train/user_train.csv\", delimiter=\";\")\n",
    "user_data.head()"
   ]
  },
  {
   "cell_type": "markdown",
   "metadata": {},
   "source": [
    "# Analizamos los dataframes: `user_data` | `session_data`"
   ]
  },
  {
   "cell_type": "code",
   "execution_count": 6,
   "metadata": {},
   "outputs": [
    {
     "data": {
      "application/vnd.microsoft.datawrangler.viewer.v0+json": {
       "columns": [
        {
         "name": "index",
         "rawType": "object",
         "type": "string"
        },
        {
         "name": "user_id",
         "rawType": "object",
         "type": "unknown"
        },
        {
         "name": "age",
         "rawType": "float64",
         "type": "float"
        },
        {
         "name": "abandoned_cart",
         "rawType": "object",
         "type": "unknown"
        },
        {
         "name": "user_category",
         "rawType": "object",
         "type": "unknown"
        },
        {
         "name": "marketing_target",
         "rawType": "float64",
         "type": "float"
        }
       ],
       "conversionMethod": "pd.DataFrame",
       "ref": "565a5472-64b6-483c-bafe-642bcf31dd17",
       "rows": [
        [
         "count",
         "700",
         "700.0",
         "700",
         "700",
         "700.0"
        ],
        [
         "unique",
         "700",
         null,
         "2",
         "3",
         null
        ],
        [
         "top",
         "d25667f3-471b-45d5-9398-dd0164e82ded",
         null,
         "False",
         "premium_subscriber",
         null
        ],
        [
         "freq",
         "1",
         null,
         "362",
         "245",
         null
        ],
        [
         "mean",
         null,
         "43.815714285714286",
         null,
         null,
         "1.3357142857142856"
        ],
        [
         "std",
         null,
         "15.02735831936042",
         null,
         null,
         "0.64200502145869"
        ],
        [
         "min",
         null,
         "18.0",
         null,
         null,
         "1.0"
        ],
        [
         "25%",
         null,
         "31.0",
         null,
         null,
         "1.0"
        ],
        [
         "50%",
         null,
         "44.0",
         null,
         null,
         "1.0"
        ],
        [
         "75%",
         null,
         "56.0",
         null,
         null,
         "1.0"
        ],
        [
         "max",
         null,
         "70.0",
         null,
         null,
         "3.0"
        ]
       ],
       "shape": {
        "columns": 5,
        "rows": 11
       }
      },
      "text/html": [
       "<div>\n",
       "<style scoped>\n",
       "    .dataframe tbody tr th:only-of-type {\n",
       "        vertical-align: middle;\n",
       "    }\n",
       "\n",
       "    .dataframe tbody tr th {\n",
       "        vertical-align: top;\n",
       "    }\n",
       "\n",
       "    .dataframe thead th {\n",
       "        text-align: right;\n",
       "    }\n",
       "</style>\n",
       "<table border=\"1\" class=\"dataframe\">\n",
       "  <thead>\n",
       "    <tr style=\"text-align: right;\">\n",
       "      <th></th>\n",
       "      <th>user_id</th>\n",
       "      <th>age</th>\n",
       "      <th>abandoned_cart</th>\n",
       "      <th>user_category</th>\n",
       "      <th>marketing_target</th>\n",
       "    </tr>\n",
       "  </thead>\n",
       "  <tbody>\n",
       "    <tr>\n",
       "      <th>count</th>\n",
       "      <td>700</td>\n",
       "      <td>700.000000</td>\n",
       "      <td>700</td>\n",
       "      <td>700</td>\n",
       "      <td>700.000000</td>\n",
       "    </tr>\n",
       "    <tr>\n",
       "      <th>unique</th>\n",
       "      <td>700</td>\n",
       "      <td>NaN</td>\n",
       "      <td>2</td>\n",
       "      <td>3</td>\n",
       "      <td>NaN</td>\n",
       "    </tr>\n",
       "    <tr>\n",
       "      <th>top</th>\n",
       "      <td>d25667f3-471b-45d5-9398-dd0164e82ded</td>\n",
       "      <td>NaN</td>\n",
       "      <td>False</td>\n",
       "      <td>premium_subscriber</td>\n",
       "      <td>NaN</td>\n",
       "    </tr>\n",
       "    <tr>\n",
       "      <th>freq</th>\n",
       "      <td>1</td>\n",
       "      <td>NaN</td>\n",
       "      <td>362</td>\n",
       "      <td>245</td>\n",
       "      <td>NaN</td>\n",
       "    </tr>\n",
       "    <tr>\n",
       "      <th>mean</th>\n",
       "      <td>NaN</td>\n",
       "      <td>43.815714</td>\n",
       "      <td>NaN</td>\n",
       "      <td>NaN</td>\n",
       "      <td>1.335714</td>\n",
       "    </tr>\n",
       "    <tr>\n",
       "      <th>std</th>\n",
       "      <td>NaN</td>\n",
       "      <td>15.027358</td>\n",
       "      <td>NaN</td>\n",
       "      <td>NaN</td>\n",
       "      <td>0.642005</td>\n",
       "    </tr>\n",
       "    <tr>\n",
       "      <th>min</th>\n",
       "      <td>NaN</td>\n",
       "      <td>18.000000</td>\n",
       "      <td>NaN</td>\n",
       "      <td>NaN</td>\n",
       "      <td>1.000000</td>\n",
       "    </tr>\n",
       "    <tr>\n",
       "      <th>25%</th>\n",
       "      <td>NaN</td>\n",
       "      <td>31.000000</td>\n",
       "      <td>NaN</td>\n",
       "      <td>NaN</td>\n",
       "      <td>1.000000</td>\n",
       "    </tr>\n",
       "    <tr>\n",
       "      <th>50%</th>\n",
       "      <td>NaN</td>\n",
       "      <td>44.000000</td>\n",
       "      <td>NaN</td>\n",
       "      <td>NaN</td>\n",
       "      <td>1.000000</td>\n",
       "    </tr>\n",
       "    <tr>\n",
       "      <th>75%</th>\n",
       "      <td>NaN</td>\n",
       "      <td>56.000000</td>\n",
       "      <td>NaN</td>\n",
       "      <td>NaN</td>\n",
       "      <td>1.000000</td>\n",
       "    </tr>\n",
       "    <tr>\n",
       "      <th>max</th>\n",
       "      <td>NaN</td>\n",
       "      <td>70.000000</td>\n",
       "      <td>NaN</td>\n",
       "      <td>NaN</td>\n",
       "      <td>3.000000</td>\n",
       "    </tr>\n",
       "  </tbody>\n",
       "</table>\n",
       "</div>"
      ],
      "text/plain": [
       "                                     user_id         age abandoned_cart  \\\n",
       "count                                    700  700.000000            700   \n",
       "unique                                   700         NaN              2   \n",
       "top     d25667f3-471b-45d5-9398-dd0164e82ded         NaN          False   \n",
       "freq                                       1         NaN            362   \n",
       "mean                                     NaN   43.815714            NaN   \n",
       "std                                      NaN   15.027358            NaN   \n",
       "min                                      NaN   18.000000            NaN   \n",
       "25%                                      NaN   31.000000            NaN   \n",
       "50%                                      NaN   44.000000            NaN   \n",
       "75%                                      NaN   56.000000            NaN   \n",
       "max                                      NaN   70.000000            NaN   \n",
       "\n",
       "             user_category  marketing_target  \n",
       "count                  700        700.000000  \n",
       "unique                   3               NaN  \n",
       "top     premium_subscriber               NaN  \n",
       "freq                   245               NaN  \n",
       "mean                   NaN          1.335714  \n",
       "std                    NaN          0.642005  \n",
       "min                    NaN          1.000000  \n",
       "25%                    NaN          1.000000  \n",
       "50%                    NaN          1.000000  \n",
       "75%                    NaN          1.000000  \n",
       "max                    NaN          3.000000  "
      ]
     },
     "execution_count": 6,
     "metadata": {},
     "output_type": "execute_result"
    }
   ],
   "source": [
    "user_data.describe(include=\"all\")"
   ]
  },
  {
   "cell_type": "code",
   "execution_count": 7,
   "metadata": {},
   "outputs": [
    {
     "name": "stdout",
     "output_type": "stream",
     "text": [
      "<class 'pandas.core.frame.DataFrame'>\n",
      "RangeIndex: 700 entries, 0 to 699\n",
      "Data columns (total 5 columns):\n",
      " #   Column            Non-Null Count  Dtype \n",
      "---  ------            --------------  ----- \n",
      " 0   user_id           700 non-null    object\n",
      " 1   age               700 non-null    int64 \n",
      " 2   abandoned_cart    700 non-null    bool  \n",
      " 3   user_category     700 non-null    object\n",
      " 4   marketing_target  700 non-null    int64 \n",
      "dtypes: bool(1), int64(2), object(2)\n",
      "memory usage: 22.7+ KB\n"
     ]
    }
   ],
   "source": [
    "user_data.info()"
   ]
  },
  {
   "cell_type": "code",
   "execution_count": 8,
   "metadata": {},
   "outputs": [
    {
     "data": {
      "application/vnd.microsoft.datawrangler.viewer.v0+json": {
       "columns": [
        {
         "name": "index",
         "rawType": "object",
         "type": "string"
        },
        {
         "name": "user_id",
         "rawType": "object",
         "type": "unknown"
        },
        {
         "name": "session_id",
         "rawType": "object",
         "type": "unknown"
        },
        {
         "name": "timestamp",
         "rawType": "object",
         "type": "unknown"
        },
        {
         "name": "device_type",
         "rawType": "object",
         "type": "unknown"
        },
        {
         "name": "browser",
         "rawType": "object",
         "type": "unknown"
        },
        {
         "name": "operating_system",
         "rawType": "object",
         "type": "unknown"
        },
        {
         "name": "ip_address",
         "rawType": "object",
         "type": "unknown"
        },
        {
         "name": "country",
         "rawType": "object",
         "type": "unknown"
        },
        {
         "name": "search_query",
         "rawType": "object",
         "type": "unknown"
        },
        {
         "name": "page_views",
         "rawType": "float64",
         "type": "float"
        },
        {
         "name": "session_duration",
         "rawType": "float64",
         "type": "float"
        }
       ],
       "conversionMethod": "pd.DataFrame",
       "ref": "44086690-e85b-4bea-90a5-16d53bfd912a",
       "rows": [
        [
         "count",
         "6877",
         "6877",
         "6877",
         "6877",
         "6877",
         "6877",
         "6877",
         "6877",
         "6877",
         "6877.0",
         "6877.0"
        ],
        [
         "unique",
         "700",
         "6877",
         "6876",
         "3",
         "4",
         "5",
         "6877",
         "243",
         "6877",
         null,
         null
        ],
        [
         "top",
         "705c813b-ef36-4b80-adc1-62a61ac0225f",
         "9e6bf192-d142-4e1b-92c4-fb9b099d2c76",
         "2023-02-14 17:50:45",
         "tablet",
         "Edge",
         "iOS",
         "116.45.231.217",
         "Korea",
         "Reach mother ten add citizen example.",
         null,
         null
        ],
        [
         "freq",
         "15",
         "1",
         "2",
         "2345",
         "1782",
         "1429",
         "1",
         "57",
         "1",
         null,
         null
        ],
        [
         "mean",
         null,
         null,
         null,
         null,
         null,
         null,
         null,
         null,
         null,
         "6.536134942562164",
         "160.271630071252"
        ],
        [
         "std",
         null,
         null,
         null,
         null,
         null,
         null,
         null,
         null,
         null,
         "2.2808313723496596",
         "80.59014857275606"
        ],
        [
         "min",
         null,
         null,
         null,
         null,
         null,
         null,
         null,
         null,
         null,
         "3.0",
         "20.0"
        ],
        [
         "25%",
         null,
         null,
         null,
         null,
         null,
         null,
         null,
         null,
         null,
         "5.0",
         "90.0"
        ],
        [
         "50%",
         null,
         null,
         null,
         null,
         null,
         null,
         null,
         null,
         null,
         "7.0",
         "161.0"
        ],
        [
         "75%",
         null,
         null,
         null,
         null,
         null,
         null,
         null,
         null,
         null,
         "9.0",
         "228.0"
        ],
        [
         "max",
         null,
         null,
         null,
         null,
         null,
         null,
         null,
         null,
         null,
         "10.0",
         "300.0"
        ]
       ],
       "shape": {
        "columns": 11,
        "rows": 11
       }
      },
      "text/html": [
       "<div>\n",
       "<style scoped>\n",
       "    .dataframe tbody tr th:only-of-type {\n",
       "        vertical-align: middle;\n",
       "    }\n",
       "\n",
       "    .dataframe tbody tr th {\n",
       "        vertical-align: top;\n",
       "    }\n",
       "\n",
       "    .dataframe thead th {\n",
       "        text-align: right;\n",
       "    }\n",
       "</style>\n",
       "<table border=\"1\" class=\"dataframe\">\n",
       "  <thead>\n",
       "    <tr style=\"text-align: right;\">\n",
       "      <th></th>\n",
       "      <th>user_id</th>\n",
       "      <th>session_id</th>\n",
       "      <th>timestamp</th>\n",
       "      <th>device_type</th>\n",
       "      <th>browser</th>\n",
       "      <th>operating_system</th>\n",
       "      <th>ip_address</th>\n",
       "      <th>country</th>\n",
       "      <th>search_query</th>\n",
       "      <th>page_views</th>\n",
       "      <th>session_duration</th>\n",
       "    </tr>\n",
       "  </thead>\n",
       "  <tbody>\n",
       "    <tr>\n",
       "      <th>count</th>\n",
       "      <td>6877</td>\n",
       "      <td>6877</td>\n",
       "      <td>6877</td>\n",
       "      <td>6877</td>\n",
       "      <td>6877</td>\n",
       "      <td>6877</td>\n",
       "      <td>6877</td>\n",
       "      <td>6877</td>\n",
       "      <td>6877</td>\n",
       "      <td>6877.000000</td>\n",
       "      <td>6877.000000</td>\n",
       "    </tr>\n",
       "    <tr>\n",
       "      <th>unique</th>\n",
       "      <td>700</td>\n",
       "      <td>6877</td>\n",
       "      <td>6876</td>\n",
       "      <td>3</td>\n",
       "      <td>4</td>\n",
       "      <td>5</td>\n",
       "      <td>6877</td>\n",
       "      <td>243</td>\n",
       "      <td>6877</td>\n",
       "      <td>NaN</td>\n",
       "      <td>NaN</td>\n",
       "    </tr>\n",
       "    <tr>\n",
       "      <th>top</th>\n",
       "      <td>705c813b-ef36-4b80-adc1-62a61ac0225f</td>\n",
       "      <td>9e6bf192-d142-4e1b-92c4-fb9b099d2c76</td>\n",
       "      <td>2023-02-14 17:50:45</td>\n",
       "      <td>tablet</td>\n",
       "      <td>Edge</td>\n",
       "      <td>iOS</td>\n",
       "      <td>116.45.231.217</td>\n",
       "      <td>Korea</td>\n",
       "      <td>Reach mother ten add citizen example.</td>\n",
       "      <td>NaN</td>\n",
       "      <td>NaN</td>\n",
       "    </tr>\n",
       "    <tr>\n",
       "      <th>freq</th>\n",
       "      <td>15</td>\n",
       "      <td>1</td>\n",
       "      <td>2</td>\n",
       "      <td>2345</td>\n",
       "      <td>1782</td>\n",
       "      <td>1429</td>\n",
       "      <td>1</td>\n",
       "      <td>57</td>\n",
       "      <td>1</td>\n",
       "      <td>NaN</td>\n",
       "      <td>NaN</td>\n",
       "    </tr>\n",
       "    <tr>\n",
       "      <th>mean</th>\n",
       "      <td>NaN</td>\n",
       "      <td>NaN</td>\n",
       "      <td>NaN</td>\n",
       "      <td>NaN</td>\n",
       "      <td>NaN</td>\n",
       "      <td>NaN</td>\n",
       "      <td>NaN</td>\n",
       "      <td>NaN</td>\n",
       "      <td>NaN</td>\n",
       "      <td>6.536135</td>\n",
       "      <td>160.271630</td>\n",
       "    </tr>\n",
       "    <tr>\n",
       "      <th>std</th>\n",
       "      <td>NaN</td>\n",
       "      <td>NaN</td>\n",
       "      <td>NaN</td>\n",
       "      <td>NaN</td>\n",
       "      <td>NaN</td>\n",
       "      <td>NaN</td>\n",
       "      <td>NaN</td>\n",
       "      <td>NaN</td>\n",
       "      <td>NaN</td>\n",
       "      <td>2.280831</td>\n",
       "      <td>80.590149</td>\n",
       "    </tr>\n",
       "    <tr>\n",
       "      <th>min</th>\n",
       "      <td>NaN</td>\n",
       "      <td>NaN</td>\n",
       "      <td>NaN</td>\n",
       "      <td>NaN</td>\n",
       "      <td>NaN</td>\n",
       "      <td>NaN</td>\n",
       "      <td>NaN</td>\n",
       "      <td>NaN</td>\n",
       "      <td>NaN</td>\n",
       "      <td>3.000000</td>\n",
       "      <td>20.000000</td>\n",
       "    </tr>\n",
       "    <tr>\n",
       "      <th>25%</th>\n",
       "      <td>NaN</td>\n",
       "      <td>NaN</td>\n",
       "      <td>NaN</td>\n",
       "      <td>NaN</td>\n",
       "      <td>NaN</td>\n",
       "      <td>NaN</td>\n",
       "      <td>NaN</td>\n",
       "      <td>NaN</td>\n",
       "      <td>NaN</td>\n",
       "      <td>5.000000</td>\n",
       "      <td>90.000000</td>\n",
       "    </tr>\n",
       "    <tr>\n",
       "      <th>50%</th>\n",
       "      <td>NaN</td>\n",
       "      <td>NaN</td>\n",
       "      <td>NaN</td>\n",
       "      <td>NaN</td>\n",
       "      <td>NaN</td>\n",
       "      <td>NaN</td>\n",
       "      <td>NaN</td>\n",
       "      <td>NaN</td>\n",
       "      <td>NaN</td>\n",
       "      <td>7.000000</td>\n",
       "      <td>161.000000</td>\n",
       "    </tr>\n",
       "    <tr>\n",
       "      <th>75%</th>\n",
       "      <td>NaN</td>\n",
       "      <td>NaN</td>\n",
       "      <td>NaN</td>\n",
       "      <td>NaN</td>\n",
       "      <td>NaN</td>\n",
       "      <td>NaN</td>\n",
       "      <td>NaN</td>\n",
       "      <td>NaN</td>\n",
       "      <td>NaN</td>\n",
       "      <td>9.000000</td>\n",
       "      <td>228.000000</td>\n",
       "    </tr>\n",
       "    <tr>\n",
       "      <th>max</th>\n",
       "      <td>NaN</td>\n",
       "      <td>NaN</td>\n",
       "      <td>NaN</td>\n",
       "      <td>NaN</td>\n",
       "      <td>NaN</td>\n",
       "      <td>NaN</td>\n",
       "      <td>NaN</td>\n",
       "      <td>NaN</td>\n",
       "      <td>NaN</td>\n",
       "      <td>10.000000</td>\n",
       "      <td>300.000000</td>\n",
       "    </tr>\n",
       "  </tbody>\n",
       "</table>\n",
       "</div>"
      ],
      "text/plain": [
       "                                     user_id  \\\n",
       "count                                   6877   \n",
       "unique                                   700   \n",
       "top     705c813b-ef36-4b80-adc1-62a61ac0225f   \n",
       "freq                                      15   \n",
       "mean                                     NaN   \n",
       "std                                      NaN   \n",
       "min                                      NaN   \n",
       "25%                                      NaN   \n",
       "50%                                      NaN   \n",
       "75%                                      NaN   \n",
       "max                                      NaN   \n",
       "\n",
       "                                  session_id            timestamp device_type  \\\n",
       "count                                   6877                 6877        6877   \n",
       "unique                                  6877                 6876           3   \n",
       "top     9e6bf192-d142-4e1b-92c4-fb9b099d2c76  2023-02-14 17:50:45      tablet   \n",
       "freq                                       1                    2        2345   \n",
       "mean                                     NaN                  NaN         NaN   \n",
       "std                                      NaN                  NaN         NaN   \n",
       "min                                      NaN                  NaN         NaN   \n",
       "25%                                      NaN                  NaN         NaN   \n",
       "50%                                      NaN                  NaN         NaN   \n",
       "75%                                      NaN                  NaN         NaN   \n",
       "max                                      NaN                  NaN         NaN   \n",
       "\n",
       "       browser operating_system      ip_address country  \\\n",
       "count     6877             6877            6877    6877   \n",
       "unique       4                5            6877     243   \n",
       "top       Edge              iOS  116.45.231.217   Korea   \n",
       "freq      1782             1429               1      57   \n",
       "mean       NaN              NaN             NaN     NaN   \n",
       "std        NaN              NaN             NaN     NaN   \n",
       "min        NaN              NaN             NaN     NaN   \n",
       "25%        NaN              NaN             NaN     NaN   \n",
       "50%        NaN              NaN             NaN     NaN   \n",
       "75%        NaN              NaN             NaN     NaN   \n",
       "max        NaN              NaN             NaN     NaN   \n",
       "\n",
       "                                 search_query   page_views  session_duration  \n",
       "count                                    6877  6877.000000       6877.000000  \n",
       "unique                                   6877          NaN               NaN  \n",
       "top     Reach mother ten add citizen example.          NaN               NaN  \n",
       "freq                                        1          NaN               NaN  \n",
       "mean                                      NaN     6.536135        160.271630  \n",
       "std                                       NaN     2.280831         80.590149  \n",
       "min                                       NaN     3.000000         20.000000  \n",
       "25%                                       NaN     5.000000         90.000000  \n",
       "50%                                       NaN     7.000000        161.000000  \n",
       "75%                                       NaN     9.000000        228.000000  \n",
       "max                                       NaN    10.000000        300.000000  "
      ]
     },
     "execution_count": 8,
     "metadata": {},
     "output_type": "execute_result"
    }
   ],
   "source": [
    "session_data.describe(include=\"all\")"
   ]
  },
  {
   "cell_type": "code",
   "execution_count": 9,
   "metadata": {},
   "outputs": [
    {
     "name": "stdout",
     "output_type": "stream",
     "text": [
      "<class 'pandas.core.frame.DataFrame'>\n",
      "RangeIndex: 6877 entries, 0 to 6876\n",
      "Data columns (total 11 columns):\n",
      " #   Column            Non-Null Count  Dtype \n",
      "---  ------            --------------  ----- \n",
      " 0   user_id           6877 non-null   object\n",
      " 1   session_id        6877 non-null   object\n",
      " 2   timestamp         6877 non-null   object\n",
      " 3   device_type       6877 non-null   object\n",
      " 4   browser           6877 non-null   object\n",
      " 5   operating_system  6877 non-null   object\n",
      " 6   ip_address        6877 non-null   object\n",
      " 7   country           6877 non-null   object\n",
      " 8   search_query      6877 non-null   object\n",
      " 9   page_views        6877 non-null   int64 \n",
      " 10  session_duration  6877 non-null   int64 \n",
      "dtypes: int64(2), object(9)\n",
      "memory usage: 591.1+ KB\n"
     ]
    }
   ],
   "source": [
    "session_data.info()"
   ]
  },
  {
   "cell_type": "markdown",
   "metadata": {},
   "source": [
    "## Verificamos valores nulos"
   ]
  },
  {
   "cell_type": "code",
   "execution_count": 10,
   "metadata": {},
   "outputs": [
    {
     "name": "stdout",
     "output_type": "stream",
     "text": [
      "Valores nulos en user_data:\n",
      "user_id             0\n",
      "age                 0\n",
      "abandoned_cart      0\n",
      "user_category       0\n",
      "marketing_target    0\n",
      "dtype: int64\n",
      "\n",
      "Valores nulos en session_data:\n",
      "user_id             0\n",
      "session_id          0\n",
      "timestamp           0\n",
      "device_type         0\n",
      "browser             0\n",
      "operating_system    0\n",
      "ip_address          0\n",
      "country             0\n",
      "search_query        0\n",
      "page_views          0\n",
      "session_duration    0\n",
      "dtype: int64\n"
     ]
    }
   ],
   "source": [
    "# Verificar valores nulos en ambos datasets\n",
    "print(\"Valores nulos en user_data:\")\n",
    "print(user_data.isnull().sum())\n",
    "\n",
    "print(\"\\nValores nulos en session_data:\")\n",
    "print(session_data.isnull().sum())"
   ]
  },
  {
   "cell_type": "markdown",
   "metadata": {},
   "source": [
    "## Convertimos `timestamp` a tipo `datetime`"
   ]
  },
  {
   "cell_type": "code",
   "execution_count": 11,
   "metadata": {},
   "outputs": [
    {
     "name": "stdout",
     "output_type": "stream",
     "text": [
      "datetime64[ns]\n",
      "0   2023-09-06 18:10:01\n",
      "1   2023-04-02 23:09:10\n",
      "2   2023-08-09 08:07:32\n",
      "3   2023-08-13 11:20:40\n",
      "4   2023-03-23 13:34:47\n",
      "Name: timestamp, dtype: datetime64[ns]\n"
     ]
    }
   ],
   "source": [
    "# Convertir la columna timestamp a tipo datetime\n",
    "session_data[\"timestamp\"] = pd.to_datetime(session_data[\"timestamp\"])\n",
    "\n",
    "# Verificar el cambio\n",
    "print(session_data.dtypes[\"timestamp\"])\n",
    "print(session_data[\"timestamp\"].head())\n"
   ]
  },
  {
   "cell_type": "markdown",
   "metadata": {},
   "source": [
    "### Características adicionales a partir de `timestamp`, pueden influir en el comportamiento del usuario.\n"
   ]
  },
  {
   "cell_type": "code",
   "execution_count": 12,
   "metadata": {},
   "outputs": [
    {
     "data": {
      "application/vnd.microsoft.datawrangler.viewer.v0+json": {
       "columns": [
        {
         "name": "index",
         "rawType": "int64",
         "type": "integer"
        },
        {
         "name": "timestamp",
         "rawType": "datetime64[ns]",
         "type": "datetime"
        },
        {
         "name": "day_of_week",
         "rawType": "int32",
         "type": "integer"
        },
        {
         "name": "hour_of_day",
         "rawType": "int32",
         "type": "integer"
        }
       ],
       "conversionMethod": "pd.DataFrame",
       "ref": "386d675a-3625-4d4a-ad76-f6358562f779",
       "rows": [
        [
         "0",
         "2023-09-06 18:10:01",
         "2",
         "18"
        ],
        [
         "1",
         "2023-04-02 23:09:10",
         "6",
         "23"
        ],
        [
         "2",
         "2023-08-09 08:07:32",
         "2",
         "8"
        ],
        [
         "3",
         "2023-08-13 11:20:40",
         "6",
         "11"
        ],
        [
         "4",
         "2023-03-23 13:34:47",
         "3",
         "13"
        ]
       ],
       "shape": {
        "columns": 3,
        "rows": 5
       }
      },
      "text/html": [
       "<div>\n",
       "<style scoped>\n",
       "    .dataframe tbody tr th:only-of-type {\n",
       "        vertical-align: middle;\n",
       "    }\n",
       "\n",
       "    .dataframe tbody tr th {\n",
       "        vertical-align: top;\n",
       "    }\n",
       "\n",
       "    .dataframe thead th {\n",
       "        text-align: right;\n",
       "    }\n",
       "</style>\n",
       "<table border=\"1\" class=\"dataframe\">\n",
       "  <thead>\n",
       "    <tr style=\"text-align: right;\">\n",
       "      <th></th>\n",
       "      <th>timestamp</th>\n",
       "      <th>day_of_week</th>\n",
       "      <th>hour_of_day</th>\n",
       "    </tr>\n",
       "  </thead>\n",
       "  <tbody>\n",
       "    <tr>\n",
       "      <th>0</th>\n",
       "      <td>2023-09-06 18:10:01</td>\n",
       "      <td>2</td>\n",
       "      <td>18</td>\n",
       "    </tr>\n",
       "    <tr>\n",
       "      <th>1</th>\n",
       "      <td>2023-04-02 23:09:10</td>\n",
       "      <td>6</td>\n",
       "      <td>23</td>\n",
       "    </tr>\n",
       "    <tr>\n",
       "      <th>2</th>\n",
       "      <td>2023-08-09 08:07:32</td>\n",
       "      <td>2</td>\n",
       "      <td>8</td>\n",
       "    </tr>\n",
       "    <tr>\n",
       "      <th>3</th>\n",
       "      <td>2023-08-13 11:20:40</td>\n",
       "      <td>6</td>\n",
       "      <td>11</td>\n",
       "    </tr>\n",
       "    <tr>\n",
       "      <th>4</th>\n",
       "      <td>2023-03-23 13:34:47</td>\n",
       "      <td>3</td>\n",
       "      <td>13</td>\n",
       "    </tr>\n",
       "  </tbody>\n",
       "</table>\n",
       "</div>"
      ],
      "text/plain": [
       "            timestamp  day_of_week  hour_of_day\n",
       "0 2023-09-06 18:10:01            2           18\n",
       "1 2023-04-02 23:09:10            6           23\n",
       "2 2023-08-09 08:07:32            2            8\n",
       "3 2023-08-13 11:20:40            6           11\n",
       "4 2023-03-23 13:34:47            3           13"
      ]
     },
     "execution_count": 12,
     "metadata": {},
     "output_type": "execute_result"
    }
   ],
   "source": [
    "# Extraer nuevas características de la fecha\n",
    "session_data[\"day_of_week\"] = session_data[\"timestamp\"].dt.dayofweek  # 0=Lunes, 6=Domingo\n",
    "session_data[\"hour_of_day\"] = session_data[\"timestamp\"].dt.hour  # Hora de la sesión\n",
    "\n",
    "# Verificar que las nuevas columnas se han añadido correctamente\n",
    "session_data[[\"timestamp\", \"day_of_week\", \"hour_of_day\"]].head()\n"
   ]
  },
  {
   "cell_type": "markdown",
   "metadata": {},
   "source": [
    "## Calculamos estadísticas agregadas por usuario (múltiples sessiones)"
   ]
  },
  {
   "cell_type": "code",
   "execution_count": 13,
   "metadata": {},
   "outputs": [],
   "source": [
    "# Agrupar por usuario y calcular estadísticas\n",
    "user_session_stats = session_data.groupby(\"user_id\").agg(\n",
    "    total_sessions=(\"session_id\", \"count\"),\n",
    "    avg_session_duration=(\"session_duration\", \"mean\"),\n",
    "    total_page_views=(\"page_views\", \"sum\")\n",
    ").reset_index()"
   ]
  },
  {
   "cell_type": "code",
   "execution_count": 14,
   "metadata": {},
   "outputs": [
    {
     "data": {
      "application/vnd.microsoft.datawrangler.viewer.v0+json": {
       "columns": [
        {
         "name": "index",
         "rawType": "int64",
         "type": "integer"
        },
        {
         "name": "user_id",
         "rawType": "object",
         "type": "string"
        },
        {
         "name": "total_sessions",
         "rawType": "int64",
         "type": "integer"
        },
        {
         "name": "avg_session_duration",
         "rawType": "float64",
         "type": "float"
        },
        {
         "name": "total_page_views",
         "rawType": "int64",
         "type": "integer"
        }
       ],
       "conversionMethod": "pd.DataFrame",
       "ref": "9cbd8c1e-2f6c-4288-a529-f0c28f48fca3",
       "rows": [
        [
         "0",
         "00019a96-41bd-455e-bdc9-54b5cf623d01",
         "7",
         "184.85714285714286",
         "41"
        ],
        [
         "1",
         "01041ca7-a8f3-482a-87a7-5acfacc4d5a1",
         "12",
         "181.58333333333334",
         "91"
        ],
        [
         "2",
         "011da192-0d1c-4f62-a293-0b766489dc5b",
         "11",
         "198.72727272727272",
         "74"
        ],
        [
         "3",
         "01b14c78-b839-49cb-94a4-1b78e206e929",
         "9",
         "211.22222222222223",
         "55"
        ],
        [
         "4",
         "0265b4a2-68a0-4ebb-ad96-7b05bea2ba11",
         "5",
         "229.6",
         "41"
        ]
       ],
       "shape": {
        "columns": 4,
        "rows": 5
       }
      },
      "text/html": [
       "<div>\n",
       "<style scoped>\n",
       "    .dataframe tbody tr th:only-of-type {\n",
       "        vertical-align: middle;\n",
       "    }\n",
       "\n",
       "    .dataframe tbody tr th {\n",
       "        vertical-align: top;\n",
       "    }\n",
       "\n",
       "    .dataframe thead th {\n",
       "        text-align: right;\n",
       "    }\n",
       "</style>\n",
       "<table border=\"1\" class=\"dataframe\">\n",
       "  <thead>\n",
       "    <tr style=\"text-align: right;\">\n",
       "      <th></th>\n",
       "      <th>user_id</th>\n",
       "      <th>total_sessions</th>\n",
       "      <th>avg_session_duration</th>\n",
       "      <th>total_page_views</th>\n",
       "    </tr>\n",
       "  </thead>\n",
       "  <tbody>\n",
       "    <tr>\n",
       "      <th>0</th>\n",
       "      <td>00019a96-41bd-455e-bdc9-54b5cf623d01</td>\n",
       "      <td>7</td>\n",
       "      <td>184.857143</td>\n",
       "      <td>41</td>\n",
       "    </tr>\n",
       "    <tr>\n",
       "      <th>1</th>\n",
       "      <td>01041ca7-a8f3-482a-87a7-5acfacc4d5a1</td>\n",
       "      <td>12</td>\n",
       "      <td>181.583333</td>\n",
       "      <td>91</td>\n",
       "    </tr>\n",
       "    <tr>\n",
       "      <th>2</th>\n",
       "      <td>011da192-0d1c-4f62-a293-0b766489dc5b</td>\n",
       "      <td>11</td>\n",
       "      <td>198.727273</td>\n",
       "      <td>74</td>\n",
       "    </tr>\n",
       "    <tr>\n",
       "      <th>3</th>\n",
       "      <td>01b14c78-b839-49cb-94a4-1b78e206e929</td>\n",
       "      <td>9</td>\n",
       "      <td>211.222222</td>\n",
       "      <td>55</td>\n",
       "    </tr>\n",
       "    <tr>\n",
       "      <th>4</th>\n",
       "      <td>0265b4a2-68a0-4ebb-ad96-7b05bea2ba11</td>\n",
       "      <td>5</td>\n",
       "      <td>229.600000</td>\n",
       "      <td>41</td>\n",
       "    </tr>\n",
       "  </tbody>\n",
       "</table>\n",
       "</div>"
      ],
      "text/plain": [
       "                                user_id  total_sessions  avg_session_duration  \\\n",
       "0  00019a96-41bd-455e-bdc9-54b5cf623d01               7            184.857143   \n",
       "1  01041ca7-a8f3-482a-87a7-5acfacc4d5a1              12            181.583333   \n",
       "2  011da192-0d1c-4f62-a293-0b766489dc5b              11            198.727273   \n",
       "3  01b14c78-b839-49cb-94a4-1b78e206e929               9            211.222222   \n",
       "4  0265b4a2-68a0-4ebb-ad96-7b05bea2ba11               5            229.600000   \n",
       "\n",
       "   total_page_views  \n",
       "0                41  \n",
       "1                91  \n",
       "2                74  \n",
       "3                55  \n",
       "4                41  "
      ]
     },
     "execution_count": 14,
     "metadata": {},
     "output_type": "execute_result"
    }
   ],
   "source": [
    "user_session_stats.head()"
   ]
  },
  {
   "cell_type": "markdown",
   "metadata": {},
   "source": [
    "### Merge con `user_data`"
   ]
  },
  {
   "cell_type": "code",
   "execution_count": 15,
   "metadata": {},
   "outputs": [
    {
     "data": {
      "application/vnd.microsoft.datawrangler.viewer.v0+json": {
       "columns": [
        {
         "name": "index",
         "rawType": "int64",
         "type": "integer"
        },
        {
         "name": "user_id",
         "rawType": "object",
         "type": "string"
        },
        {
         "name": "age",
         "rawType": "int64",
         "type": "integer"
        },
        {
         "name": "abandoned_cart",
         "rawType": "bool",
         "type": "boolean"
        },
        {
         "name": "user_category",
         "rawType": "object",
         "type": "string"
        },
        {
         "name": "marketing_target",
         "rawType": "int64",
         "type": "integer"
        },
        {
         "name": "total_sessions",
         "rawType": "int64",
         "type": "integer"
        },
        {
         "name": "avg_session_duration",
         "rawType": "float64",
         "type": "float"
        },
        {
         "name": "total_page_views",
         "rawType": "int64",
         "type": "integer"
        }
       ],
       "conversionMethod": "pd.DataFrame",
       "ref": "0d308295-0d5a-4c57-a607-5547b17ced8a",
       "rows": [
        [
         "0",
         "a806c313-9bc3-4c1b-bdc4-24e9b0cdec8e",
         "28",
         "False",
         "premium_subscriber",
         "1",
         "11",
         "185.27272727272728",
         "65"
        ],
        [
         "1",
         "c93cb31f-dab2-4d8f-b8de-ec5466b764c1",
         "54",
         "False",
         "premium_subscriber",
         "1",
         "9",
         "161.77777777777777",
         "56"
        ],
        [
         "2",
         "262c06e0-96d7-45bc-bbff-060bae8a6f52",
         "23",
         "True",
         "premium_subscriber",
         "1",
         "5",
         "174.4",
         "30"
        ],
        [
         "3",
         "3eb387fe-6afc-4e23-9e3c-26457d97e446",
         "53",
         "False",
         "recurring_user",
         "1",
         "7",
         "157.28571428571428",
         "46"
        ],
        [
         "4",
         "65596ffc-3bf1-4d45-8589-37bfce2f4d72",
         "62",
         "False",
         "recurring_user",
         "1",
         "10",
         "148.0",
         "64"
        ]
       ],
       "shape": {
        "columns": 8,
        "rows": 5
       }
      },
      "text/html": [
       "<div>\n",
       "<style scoped>\n",
       "    .dataframe tbody tr th:only-of-type {\n",
       "        vertical-align: middle;\n",
       "    }\n",
       "\n",
       "    .dataframe tbody tr th {\n",
       "        vertical-align: top;\n",
       "    }\n",
       "\n",
       "    .dataframe thead th {\n",
       "        text-align: right;\n",
       "    }\n",
       "</style>\n",
       "<table border=\"1\" class=\"dataframe\">\n",
       "  <thead>\n",
       "    <tr style=\"text-align: right;\">\n",
       "      <th></th>\n",
       "      <th>user_id</th>\n",
       "      <th>age</th>\n",
       "      <th>abandoned_cart</th>\n",
       "      <th>user_category</th>\n",
       "      <th>marketing_target</th>\n",
       "      <th>total_sessions</th>\n",
       "      <th>avg_session_duration</th>\n",
       "      <th>total_page_views</th>\n",
       "    </tr>\n",
       "  </thead>\n",
       "  <tbody>\n",
       "    <tr>\n",
       "      <th>0</th>\n",
       "      <td>a806c313-9bc3-4c1b-bdc4-24e9b0cdec8e</td>\n",
       "      <td>28</td>\n",
       "      <td>False</td>\n",
       "      <td>premium_subscriber</td>\n",
       "      <td>1</td>\n",
       "      <td>11</td>\n",
       "      <td>185.272727</td>\n",
       "      <td>65</td>\n",
       "    </tr>\n",
       "    <tr>\n",
       "      <th>1</th>\n",
       "      <td>c93cb31f-dab2-4d8f-b8de-ec5466b764c1</td>\n",
       "      <td>54</td>\n",
       "      <td>False</td>\n",
       "      <td>premium_subscriber</td>\n",
       "      <td>1</td>\n",
       "      <td>9</td>\n",
       "      <td>161.777778</td>\n",
       "      <td>56</td>\n",
       "    </tr>\n",
       "    <tr>\n",
       "      <th>2</th>\n",
       "      <td>262c06e0-96d7-45bc-bbff-060bae8a6f52</td>\n",
       "      <td>23</td>\n",
       "      <td>True</td>\n",
       "      <td>premium_subscriber</td>\n",
       "      <td>1</td>\n",
       "      <td>5</td>\n",
       "      <td>174.400000</td>\n",
       "      <td>30</td>\n",
       "    </tr>\n",
       "    <tr>\n",
       "      <th>3</th>\n",
       "      <td>3eb387fe-6afc-4e23-9e3c-26457d97e446</td>\n",
       "      <td>53</td>\n",
       "      <td>False</td>\n",
       "      <td>recurring_user</td>\n",
       "      <td>1</td>\n",
       "      <td>7</td>\n",
       "      <td>157.285714</td>\n",
       "      <td>46</td>\n",
       "    </tr>\n",
       "    <tr>\n",
       "      <th>4</th>\n",
       "      <td>65596ffc-3bf1-4d45-8589-37bfce2f4d72</td>\n",
       "      <td>62</td>\n",
       "      <td>False</td>\n",
       "      <td>recurring_user</td>\n",
       "      <td>1</td>\n",
       "      <td>10</td>\n",
       "      <td>148.000000</td>\n",
       "      <td>64</td>\n",
       "    </tr>\n",
       "  </tbody>\n",
       "</table>\n",
       "</div>"
      ],
      "text/plain": [
       "                                user_id  age  abandoned_cart  \\\n",
       "0  a806c313-9bc3-4c1b-bdc4-24e9b0cdec8e   28           False   \n",
       "1  c93cb31f-dab2-4d8f-b8de-ec5466b764c1   54           False   \n",
       "2  262c06e0-96d7-45bc-bbff-060bae8a6f52   23            True   \n",
       "3  3eb387fe-6afc-4e23-9e3c-26457d97e446   53           False   \n",
       "4  65596ffc-3bf1-4d45-8589-37bfce2f4d72   62           False   \n",
       "\n",
       "        user_category  marketing_target  total_sessions  avg_session_duration  \\\n",
       "0  premium_subscriber                 1              11            185.272727   \n",
       "1  premium_subscriber                 1               9            161.777778   \n",
       "2  premium_subscriber                 1               5            174.400000   \n",
       "3      recurring_user                 1               7            157.285714   \n",
       "4      recurring_user                 1              10            148.000000   \n",
       "\n",
       "   total_page_views  \n",
       "0                65  \n",
       "1                56  \n",
       "2                30  \n",
       "3                46  \n",
       "4                64  "
      ]
     },
     "execution_count": 15,
     "metadata": {},
     "output_type": "execute_result"
    }
   ],
   "source": [
    "# Unir user_data con las estadísticas de sesión\n",
    "user_merged = user_data.merge(user_session_stats, on=\"user_id\", how=\"left\")\n",
    "\n",
    "# Revisar si la fusión fue exitosa\n",
    "user_merged.head()"
   ]
  },
  {
   "cell_type": "code",
   "execution_count": 16,
   "metadata": {},
   "outputs": [
    {
     "name": "stdout",
     "output_type": "stream",
     "text": [
      "total_sessions          0\n",
      "avg_session_duration    0\n",
      "total_page_views        0\n",
      "dtype: int64\n"
     ]
    }
   ],
   "source": [
    "# Verificar valores nulos en las nuevas columnas\n",
    "print(user_merged[[\"total_sessions\", \"avg_session_duration\", \"total_page_views\"]].isnull().sum())\n"
   ]
  },
  {
   "cell_type": "markdown",
   "metadata": {},
   "source": [
    "# Analizamos la variable objetivo `marketing_target` \n",
    "\n",
    "- **(1 - Bajo)** 75,86% \n",
    "- **(2 - Medio)** 14.71 % \n",
    "- **(3 - Alto)** 9.43 %"
   ]
  },
  {
   "cell_type": "code",
   "execution_count": 18,
   "metadata": {},
   "outputs": [
    {
     "data": {
      "image/png": "[encoded data removed]",
      "text/plain": [
       "<Figure size 600x400 with 1 Axes>"
      ]
     },
     "metadata": {},
     "output_type": "display_data"
    },
    {
     "name": "stdout",
     "output_type": "stream",
     "text": [
      "marketing_target\n",
      "1    75.857143\n",
      "2    14.714286\n",
      "3     9.428571\n",
      "Name: proportion, dtype: float64\n"
     ]
    }
   ],
   "source": [
    "import seaborn as sns\n",
    "import matplotlib.pyplot as plt\n",
    "\n",
    "# Contar la cantidad de usuarios por categoría de marketing_target\n",
    "plt.figure(figsize=(6, 4))\n",
    "sns.countplot(data=user_merged, x=\"marketing_target\", palette=\"viridis\", hue='marketing_target')\n",
    "plt.title(\"Distribución de marketing_target\")\n",
    "plt.xlabel(\"Marketing Target (1 = Bajo, 2 = Medio, 3 = Alto)\")\n",
    "plt.ylabel(\"Cantidad de Usuarios\")\n",
    "plt.show()\n",
    "\n",
    "# Calcular la distribución en porcentajes\n",
    "target_distribution = user_merged[\"marketing_target\"].value_counts(normalize=True) * 100\n",
    "\n",
    "# Mostrar los resultados\n",
    "print(target_distribution)"
   ]
  },
  {
   "cell_type": "markdown",
   "metadata": {},
   "source": [
    "### Análisis de correlación entre la variables numéricas y marketing_target"
   ]
  },
  {
   "cell_type": "code",
   "execution_count": 19,
   "metadata": {},
   "outputs": [
    {
     "data": {
      "image/png": "[encoded data removed]",
      "text/plain": [
       "<Figure size 600x400 with 2 Axes>"
      ]
     },
     "metadata": {},
     "output_type": "display_data"
    }
   ],
   "source": [
    "# Calcular la matriz de correlación\n",
    "correlation_matrix = user_merged[[\"age\", \"total_sessions\", \"avg_session_duration\", \"total_page_views\", \"marketing_target\"]].corr()\n",
    "\n",
    "# Visualizar la matriz de correlación\n",
    "plt.figure(figsize=(6, 4))\n",
    "sns.heatmap(correlation_matrix, annot=True, cmap=\"coolwarm\", fmt=\".2f\", linewidths=0.5)\n",
    "plt.title(\"Matriz de Correlación\")\n",
    "plt.show()"
   ]
  },
  {
   "cell_type": "markdown",
   "metadata": {},
   "source": [
    "- `avg_session_duration `tiene una correlación moderada (0.40) con `marketing_target`, lo que indica que la duración promedio de la sesión podría ser una variable relevante para predecir el nivel de engagement.\n",
    "- `total_sessions` y `total_page_views` están altamente correlacionados entre sí (0.94), lo que sugiere que podríamos eliminar una de estas variables para evitar colinealidad.\n",
    "- `age` y `total_sessions` tienen una correlación muy baja con `marketing_target`, lo que indica que podrían no ser tan útiles para la predicción."
   ]
  },
  {
   "cell_type": "markdown",
   "metadata": {},
   "source": [
    "### Exploremos la relación entre `marketing_target` y `user_category` (variable categórica) \n",
    "- Para ver si los distintos tipos de usuarios (`new_user`, `recurring_user`, `premium_subscriber`) están distribuidos de manera desigual en los niveles de engagement."
   ]
  },
  {
   "cell_type": "code",
   "execution_count": 20,
   "metadata": {},
   "outputs": [
    {
     "data": {
      "image/png": "[encoded data removed]",
      "text/plain": [
       "<Figure size 600x400 with 1 Axes>"
      ]
     },
     "metadata": {},
     "output_type": "display_data"
    }
   ],
   "source": [
    "# Distribución de marketing_target por user_category\n",
    "plt.figure(figsize=(6, 4))\n",
    "sns.countplot(data=user_merged, x=\"user_category\", hue=\"marketing_target\", palette=\"viridis\")\n",
    "plt.title(\"Distribución de marketing_target por user_category\")\n",
    "plt.xlabel(\"User Category\")\n",
    "plt.ylabel(\"Cantidad de Usuarios\")\n",
    "plt.xticks(rotation=30)\n",
    "plt.legend(title=\"Marketing Target\")\n",
    "plt.show()\n"
   ]
  },
  {
   "cell_type": "markdown",
   "metadata": {},
   "source": [
    "- `user_category` podría ser una característica útil para el modelo, pero por sí sola no es suficiente para diferenciar claramente los niveles de engagement."
   ]
  },
  {
   "cell_type": "markdown",
   "metadata": {},
   "source": [
    "# Exploramos las variables categóricas de `session_data`"
   ]
  },
  {
   "cell_type": "code",
   "execution_count": 21,
   "metadata": {},
   "outputs": [
    {
     "data": {
      "image/png": "[encoded data removed]",
      "text/plain": [
       "<Figure size 600x400 with 1 Axes>"
      ]
     },
     "metadata": {},
     "output_type": "display_data"
    }
   ],
   "source": [
    "# Distribución de marketing_target por device_type\n",
    "plt.figure(figsize=(6, 4))\n",
    "sns.countplot(data=user_merged.merge(session_data[[\"user_id\", \"device_type\"]], on=\"user_id\", how=\"left\"),\n",
    "              x=\"device_type\", hue=\"marketing_target\", palette=\"viridis\")\n",
    "plt.title(\"Distribución de marketing_target por device_type\")\n",
    "plt.xlabel(\"Device Type\")\n",
    "plt.ylabel(\"Cantidad de Usuarios\")\n",
    "plt.xticks(rotation=30)\n",
    "plt.legend(title=\"Marketing Target\")\n",
    "plt.show()\n"
   ]
  },
  {
   "cell_type": "code",
   "execution_count": 22,
   "metadata": {},
   "outputs": [
    {
     "data": {
      "image/png": "[encoded data removed]",
      "text/plain": [
       "<Figure size 800x400 with 1 Axes>"
      ]
     },
     "metadata": {},
     "output_type": "display_data"
    }
   ],
   "source": [
    "# Distribución de marketing_target por browser\n",
    "plt.figure(figsize=(8, 4))\n",
    "sns.countplot(data=user_merged.merge(session_data[[\"user_id\", \"browser\"]], on=\"user_id\", how=\"left\"),\n",
    "              x=\"browser\", hue=\"marketing_target\", palette=\"viridis\")\n",
    "plt.title(\"Distribución de marketing_target por browser\")\n",
    "plt.xlabel(\"Browser\")\n",
    "plt.ylabel(\"Cantidad de Usuarios\")\n",
    "plt.xticks(rotation=30)\n",
    "plt.legend(title=\"Marketing Target\")\n",
    "plt.show()"
   ]
  },
  {
   "cell_type": "code",
   "execution_count": 23,
   "metadata": {},
   "outputs": [
    {
     "data": {
      "image/png": "[encoded data removed]",
      "text/plain": [
       "<Figure size 800x400 with 1 Axes>"
      ]
     },
     "metadata": {},
     "output_type": "display_data"
    }
   ],
   "source": [
    "# Distribución de marketing_target por operating_system\n",
    "plt.figure(figsize=(8, 4))\n",
    "sns.countplot(data=user_merged.merge(session_data[[\"user_id\", \"operating_system\"]], on=\"user_id\", how=\"left\"),\n",
    "              x=\"operating_system\", hue=\"marketing_target\", palette=\"viridis\")\n",
    "plt.title(\"Distribución de marketing_target por operating_system\")\n",
    "plt.xlabel(\"Operating System\")\n",
    "plt.ylabel(\"Cantidad de Usuarios\")\n",
    "plt.xticks(rotation=30)\n",
    "plt.legend(title=\"Marketing Target\")\n",
    "plt.show()"
   ]
  },
  {
   "cell_type": "markdown",
   "metadata": {},
   "source": [
    "- `operating_system`, al igual que `browser` y `device_type`, no parece ser una característica predictiva fuerte."
   ]
  },
  {
   "cell_type": "code",
   "execution_count": 24,
   "metadata": {},
   "outputs": [
    {
     "name": "stdout",
     "output_type": "stream",
     "text": [
      "Número de países distintos en el dataset: 243\n",
      "\n",
      "Top 10 países con más sesiones:\n",
      "country\n",
      "Korea            57\n",
      "Congo            53\n",
      "Taiwan           46\n",
      "Faroe Islands    41\n",
      "Anguilla         40\n",
      "Mongolia         40\n",
      "Egypt            38\n",
      "Brazil           38\n",
      "French Guiana    38\n",
      "Austria          38\n",
      "Name: count, dtype: int64\n"
     ]
    }
   ],
   "source": [
    "# Contar el número de países únicos\n",
    "num_paises = session_data[\"country\"].nunique()\n",
    "\n",
    "# Mostrar el resultado\n",
    "print(f\"Número de países distintos en el dataset: {num_paises}\")\n",
    "\n",
    "# Mostrar los países más frecuentes\n",
    "print(\"\\nTop 10 países con más sesiones:\")\n",
    "print(session_data[\"country\"].value_counts().head(10))"
   ]
  },
  {
   "cell_type": "markdown",
   "metadata": {},
   "source": [
    "# Merge de datasets"
   ]
  },
  {
   "cell_type": "code",
   "execution_count": 25,
   "metadata": {},
   "outputs": [
    {
     "data": {
      "application/vnd.microsoft.datawrangler.viewer.v0+json": {
       "columns": [
        {
         "name": "index",
         "rawType": "int64",
         "type": "integer"
        },
        {
         "name": "user_id",
         "rawType": "object",
         "type": "string"
        },
        {
         "name": "age",
         "rawType": "int64",
         "type": "integer"
        },
        {
         "name": "abandoned_cart",
         "rawType": "bool",
         "type": "boolean"
        },
        {
         "name": "user_category",
         "rawType": "object",
         "type": "string"
        },
        {
         "name": "marketing_target",
         "rawType": "int64",
         "type": "integer"
        },
        {
         "name": "total_sessions",
         "rawType": "int64",
         "type": "integer"
        },
        {
         "name": "avg_session_duration",
         "rawType": "float64",
         "type": "float"
        },
        {
         "name": "total_page_views",
         "rawType": "int64",
         "type": "integer"
        },
        {
         "name": "session_id",
         "rawType": "object",
         "type": "string"
        },
        {
         "name": "timestamp",
         "rawType": "datetime64[ns]",
         "type": "datetime"
        },
        {
         "name": "device_type",
         "rawType": "object",
         "type": "string"
        },
        {
         "name": "browser",
         "rawType": "object",
         "type": "string"
        },
        {
         "name": "operating_system",
         "rawType": "object",
         "type": "string"
        },
        {
         "name": "ip_address",
         "rawType": "object",
         "type": "string"
        },
        {
         "name": "country",
         "rawType": "object",
         "type": "string"
        },
        {
         "name": "search_query",
         "rawType": "object",
         "type": "string"
        },
        {
         "name": "page_views",
         "rawType": "int64",
         "type": "integer"
        },
        {
         "name": "session_duration",
         "rawType": "int64",
         "type": "integer"
        },
        {
         "name": "day_of_week",
         "rawType": "int32",
         "type": "integer"
        },
        {
         "name": "hour_of_day",
         "rawType": "int32",
         "type": "integer"
        }
       ],
       "conversionMethod": "pd.DataFrame",
       "ref": "b426c13d-5ca0-4185-9b6c-c8f7b37190aa",
       "rows": [
        [
         "0",
         "a806c313-9bc3-4c1b-bdc4-24e9b0cdec8e",
         "28",
         "False",
         "premium_subscriber",
         "1",
         "11",
         "185.27272727272728",
         "65",
         "de10a475-e7a4-4086-8025-19e371af79e2",
         "2023-03-22 00:03:46",
         "mobile",
         "Safari",
         "Windows",
         "157.33.207.208",
         "Lithuania",
         "Middle beat later can.",
         "6",
         "235",
         "2",
         "0"
        ],
        [
         "1",
         "a806c313-9bc3-4c1b-bdc4-24e9b0cdec8e",
         "28",
         "False",
         "premium_subscriber",
         "1",
         "11",
         "185.27272727272728",
         "65",
         "6a863d00-21dd-4fb0-9d10-e0494ab999ce",
         "2023-04-26 05:09:21",
         "mobile",
         "Firefox",
         "macOS",
         "9.197.105.100",
         "United States of America",
         "Myself mean issue option sign for mission.",
         "3",
         "196",
         "2",
         "5"
        ],
        [
         "2",
         "a806c313-9bc3-4c1b-bdc4-24e9b0cdec8e",
         "28",
         "False",
         "premium_subscriber",
         "1",
         "11",
         "185.27272727272728",
         "65",
         "d8f3dc0d-d343-4b85-86d3-f7b0fc64bbdc",
         "2023-02-23 14:04:10",
         "desktop",
         "Firefox",
         "Windows",
         "117.121.111.15",
         "Moldova",
         "Ground hear growth get woman allow.",
         "5",
         "174",
         "3",
         "14"
        ],
        [
         "3",
         "a806c313-9bc3-4c1b-bdc4-24e9b0cdec8e",
         "28",
         "False",
         "premium_subscriber",
         "1",
         "11",
         "185.27272727272728",
         "65",
         "dff85134-a9f1-4687-b222-abad3cdc5b0e",
         "2023-08-15 15:24:36",
         "mobile",
         "Chrome",
         "Android",
         "174.110.113.128",
         "Gabon",
         "Western them social station common best measure.",
         "3",
         "285",
         "1",
         "15"
        ],
        [
         "4",
         "a806c313-9bc3-4c1b-bdc4-24e9b0cdec8e",
         "28",
         "False",
         "premium_subscriber",
         "1",
         "11",
         "185.27272727272728",
         "65",
         "23bccabf-f335-4d4d-a916-8785da73a47f",
         "2023-02-14 14:39:35",
         "desktop",
         "Firefox",
         "macOS",
         "214.253.53.156",
         "Mozambique",
         "Least that wait teach also she.",
         "8",
         "237",
         "1",
         "14"
        ]
       ],
       "shape": {
        "columns": 20,
        "rows": 5
       }
      },
      "text/html": [
       "<div>\n",
       "<style scoped>\n",
       "    .dataframe tbody tr th:only-of-type {\n",
       "        vertical-align: middle;\n",
       "    }\n",
       "\n",
       "    .dataframe tbody tr th {\n",
       "        vertical-align: top;\n",
       "    }\n",
       "\n",
       "    .dataframe thead th {\n",
       "        text-align: right;\n",
       "    }\n",
       "</style>\n",
       "<table border=\"1\" class=\"dataframe\">\n",
       "  <thead>\n",
       "    <tr style=\"text-align: right;\">\n",
       "      <th></th>\n",
       "      <th>user_id</th>\n",
       "      <th>age</th>\n",
       "      <th>abandoned_cart</th>\n",
       "      <th>user_category</th>\n",
       "      <th>marketing_target</th>\n",
       "      <th>total_sessions</th>\n",
       "      <th>avg_session_duration</th>\n",
       "      <th>total_page_views</th>\n",
       "      <th>session_id</th>\n",
       "      <th>timestamp</th>\n",
       "      <th>device_type</th>\n",
       "      <th>browser</th>\n",
       "      <th>operating_system</th>\n",
       "      <th>ip_address</th>\n",
       "      <th>country</th>\n",
       "      <th>search_query</th>\n",
       "      <th>page_views</th>\n",
       "      <th>session_duration</th>\n",
       "      <th>day_of_week</th>\n",
       "      <th>hour_of_day</th>\n",
       "    </tr>\n",
       "  </thead>\n",
       "  <tbody>\n",
       "    <tr>\n",
       "      <th>0</th>\n",
       "      <td>a806c313-9bc3-4c1b-bdc4-24e9b0cdec8e</td>\n",
       "      <td>28</td>\n",
       "      <td>False</td>\n",
       "      <td>premium_subscriber</td>\n",
       "      <td>1</td>\n",
       "      <td>11</td>\n",
       "      <td>185.272727</td>\n",
       "      <td>65</td>\n",
       "      <td>de10a475-e7a4-4086-8025-19e371af79e2</td>\n",
       "      <td>2023-03-22 00:03:46</td>\n",
       "      <td>mobile</td>\n",
       "      <td>Safari</td>\n",
       "      <td>Windows</td>\n",
       "      <td>157.33.207.208</td>\n",
       "      <td>Lithuania</td>\n",
       "      <td>Middle beat later can.</td>\n",
       "      <td>6</td>\n",
       "      <td>235</td>\n",
       "      <td>2</td>\n",
       "      <td>0</td>\n",
       "    </tr>\n",
       "    <tr>\n",
       "      <th>1</th>\n",
       "      <td>a806c313-9bc3-4c1b-bdc4-24e9b0cdec8e</td>\n",
       "      <td>28</td>\n",
       "      <td>False</td>\n",
       "      <td>premium_subscriber</td>\n",
       "      <td>1</td>\n",
       "      <td>11</td>\n",
       "      <td>185.272727</td>\n",
       "      <td>65</td>\n",
       "      <td>6a863d00-21dd-4fb0-9d10-e0494ab999ce</td>\n",
       "      <td>2023-04-26 05:09:21</td>\n",
       "      <td>mobile</td>\n",
       "      <td>Firefox</td>\n",
       "      <td>macOS</td>\n",
       "      <td>9.197.105.100</td>\n",
       "      <td>United States of America</td>\n",
       "      <td>Myself mean issue option sign for mission.</td>\n",
       "      <td>3</td>\n",
       "      <td>196</td>\n",
       "      <td>2</td>\n",
       "      <td>5</td>\n",
       "    </tr>\n",
       "    <tr>\n",
       "      <th>2</th>\n",
       "      <td>a806c313-9bc3-4c1b-bdc4-24e9b0cdec8e</td>\n",
       "      <td>28</td>\n",
       "      <td>False</td>\n",
       "      <td>premium_subscriber</td>\n",
       "      <td>1</td>\n",
       "      <td>11</td>\n",
       "      <td>185.272727</td>\n",
       "      <td>65</td>\n",
       "      <td>d8f3dc0d-d343-4b85-86d3-f7b0fc64bbdc</td>\n",
       "      <td>2023-02-23 14:04:10</td>\n",
       "      <td>desktop</td>\n",
       "      <td>Firefox</td>\n",
       "      <td>Windows</td>\n",
       "      <td>117.121.111.15</td>\n",
       "      <td>Moldova</td>\n",
       "      <td>Ground hear growth get woman allow.</td>\n",
       "      <td>5</td>\n",
       "      <td>174</td>\n",
       "      <td>3</td>\n",
       "      <td>14</td>\n",
       "    </tr>\n",
       "    <tr>\n",
       "      <th>3</th>\n",
       "      <td>a806c313-9bc3-4c1b-bdc4-24e9b0cdec8e</td>\n",
       "      <td>28</td>\n",
       "      <td>False</td>\n",
       "      <td>premium_subscriber</td>\n",
       "      <td>1</td>\n",
       "      <td>11</td>\n",
       "      <td>185.272727</td>\n",
       "      <td>65</td>\n",
       "      <td>dff85134-a9f1-4687-b222-abad3cdc5b0e</td>\n",
       "      <td>2023-08-15 15:24:36</td>\n",
       "      <td>mobile</td>\n",
       "      <td>Chrome</td>\n",
       "      <td>Android</td>\n",
       "      <td>174.110.113.128</td>\n",
       "      <td>Gabon</td>\n",
       "      <td>Western them social station common best measure.</td>\n",
       "      <td>3</td>\n",
       "      <td>285</td>\n",
       "      <td>1</td>\n",
       "      <td>15</td>\n",
       "    </tr>\n",
       "    <tr>\n",
       "      <th>4</th>\n",
       "      <td>a806c313-9bc3-4c1b-bdc4-24e9b0cdec8e</td>\n",
       "      <td>28</td>\n",
       "      <td>False</td>\n",
       "      <td>premium_subscriber</td>\n",
       "      <td>1</td>\n",
       "      <td>11</td>\n",
       "      <td>185.272727</td>\n",
       "      <td>65</td>\n",
       "      <td>23bccabf-f335-4d4d-a916-8785da73a47f</td>\n",
       "      <td>2023-02-14 14:39:35</td>\n",
       "      <td>desktop</td>\n",
       "      <td>Firefox</td>\n",
       "      <td>macOS</td>\n",
       "      <td>214.253.53.156</td>\n",
       "      <td>Mozambique</td>\n",
       "      <td>Least that wait teach also she.</td>\n",
       "      <td>8</td>\n",
       "      <td>237</td>\n",
       "      <td>1</td>\n",
       "      <td>14</td>\n",
       "    </tr>\n",
       "  </tbody>\n",
       "</table>\n",
       "</div>"
      ],
      "text/plain": [
       "                                user_id  age  abandoned_cart  \\\n",
       "0  a806c313-9bc3-4c1b-bdc4-24e9b0cdec8e   28           False   \n",
       "1  a806c313-9bc3-4c1b-bdc4-24e9b0cdec8e   28           False   \n",
       "2  a806c313-9bc3-4c1b-bdc4-24e9b0cdec8e   28           False   \n",
       "3  a806c313-9bc3-4c1b-bdc4-24e9b0cdec8e   28           False   \n",
       "4  a806c313-9bc3-4c1b-bdc4-24e9b0cdec8e   28           False   \n",
       "\n",
       "        user_category  marketing_target  total_sessions  avg_session_duration  \\\n",
       "0  premium_subscriber                 1              11            185.272727   \n",
       "1  premium_subscriber                 1              11            185.272727   \n",
       "2  premium_subscriber                 1              11            185.272727   \n",
       "3  premium_subscriber                 1              11            185.272727   \n",
       "4  premium_subscriber                 1              11            185.272727   \n",
       "\n",
       "   total_page_views                            session_id           timestamp  \\\n",
       "0                65  de10a475-e7a4-4086-8025-19e371af79e2 2023-03-22 00:03:46   \n",
       "1                65  6a863d00-21dd-4fb0-9d10-e0494ab999ce 2023-04-26 05:09:21   \n",
       "2                65  d8f3dc0d-d343-4b85-86d3-f7b0fc64bbdc 2023-02-23 14:04:10   \n",
       "3                65  dff85134-a9f1-4687-b222-abad3cdc5b0e 2023-08-15 15:24:36   \n",
       "4                65  23bccabf-f335-4d4d-a916-8785da73a47f 2023-02-14 14:39:35   \n",
       "\n",
       "  device_type  browser operating_system       ip_address  \\\n",
       "0      mobile   Safari          Windows   157.33.207.208   \n",
       "1      mobile  Firefox            macOS    9.197.105.100   \n",
       "2     desktop  Firefox          Windows   117.121.111.15   \n",
       "3      mobile   Chrome          Android  174.110.113.128   \n",
       "4     desktop  Firefox            macOS   214.253.53.156   \n",
       "\n",
       "                    country                                      search_query  \\\n",
       "0                 Lithuania                            Middle beat later can.   \n",
       "1  United States of America        Myself mean issue option sign for mission.   \n",
       "2                   Moldova               Ground hear growth get woman allow.   \n",
       "3                     Gabon  Western them social station common best measure.   \n",
       "4                Mozambique                   Least that wait teach also she.   \n",
       "\n",
       "   page_views  session_duration  day_of_week  hour_of_day  \n",
       "0           6               235            2            0  \n",
       "1           3               196            2            5  \n",
       "2           5               174            3           14  \n",
       "3           3               285            1           15  \n",
       "4           8               237            1           14  "
      ]
     },
     "metadata": {},
     "output_type": "display_data"
    },
    {
     "name": "stdout",
     "output_type": "stream",
     "text": [
      "Tamaño del dataset fusionado: (6877, 20)\n"
     ]
    }
   ],
   "source": [
    "# Fusionar user_merged con session_data\n",
    "full_data = user_merged.merge(session_data, on=\"user_id\", how=\"left\")\n",
    "\n",
    "# Ver las primeras filas para asegurarnos de que el merge fue exitoso\n",
    "display(full_data.head())\n",
    "\n",
    "# Verificar el tamaño del nuevo dataset\n",
    "print(f\"Tamaño del dataset fusionado: {full_data.shape}\")\n"
   ]
  },
  {
   "cell_type": "markdown",
   "metadata": {},
   "source": [
    "# Análisis de `full_data` "
   ]
  },
  {
   "cell_type": "markdown",
   "metadata": {},
   "source": [
    "## Revisamos tipos de datos"
   ]
  },
  {
   "cell_type": "code",
   "execution_count": 26,
   "metadata": {},
   "outputs": [
    {
     "name": "stdout",
     "output_type": "stream",
     "text": [
      "<class 'pandas.core.frame.DataFrame'>\n",
      "RangeIndex: 6877 entries, 0 to 6876\n",
      "Data columns (total 20 columns):\n",
      " #   Column                Non-Null Count  Dtype         \n",
      "---  ------                --------------  -----         \n",
      " 0   user_id               6877 non-null   object        \n",
      " 1   age                   6877 non-null   int64         \n",
      " 2   abandoned_cart        6877 non-null   bool          \n",
      " 3   user_category         6877 non-null   object        \n",
      " 4   marketing_target      6877 non-null   int64         \n",
      " 5   total_sessions        6877 non-null   int64         \n",
      " 6   avg_session_duration  6877 non-null   float64       \n",
      " 7   total_page_views      6877 non-null   int64         \n",
      " 8   session_id            6877 non-null   object        \n",
      " 9   timestamp             6877 non-null   datetime64[ns]\n",
      " 10  device_type           6877 non-null   object        \n",
      " 11  browser               6877 non-null   object        \n",
      " 12  operating_system      6877 non-null   object        \n",
      " 13  ip_address            6877 non-null   object        \n",
      " 14  country               6877 non-null   object        \n",
      " 15  search_query          6877 non-null   object        \n",
      " 16  page_views            6877 non-null   int64         \n",
      " 17  session_duration      6877 non-null   int64         \n",
      " 18  day_of_week           6877 non-null   int32         \n",
      " 19  hour_of_day           6877 non-null   int32         \n",
      "dtypes: bool(1), datetime64[ns](1), float64(1), int32(2), int64(6), object(9)\n",
      "memory usage: 973.9+ KB\n"
     ]
    }
   ],
   "source": [
    "full_data.info()"
   ]
  },
  {
   "cell_type": "code",
   "execution_count": 27,
   "metadata": {},
   "outputs": [
    {
     "name": "stdout",
     "output_type": "stream",
     "text": [
      "user_category: 3 valores únicos\n",
      "device_type: 3 valores únicos\n",
      "browser: 4 valores únicos\n",
      "operating_system: 5 valores únicos\n",
      "country: 243 valores únicos\n",
      "\n",
      "Resumen de valores en columnas numéricas:\n",
      "               age  total_sessions  avg_session_duration  total_page_views  \\\n",
      "count  6877.000000     6877.000000           6877.000000       6877.000000   \n",
      "mean     43.835248       10.818526            160.271630         70.776211   \n",
      "std      15.011816        2.984581             26.428991         21.307551   \n",
      "min      18.000000        5.000000             85.666667         23.000000   \n",
      "25%      31.000000        8.000000            142.307692         54.000000   \n",
      "50%      44.000000       11.000000            159.142857         71.000000   \n",
      "75%      56.000000       14.000000            177.071429         89.000000   \n",
      "max      70.000000       15.000000            244.500000        122.000000   \n",
      "\n",
      "        page_views  session_duration  day_of_week  hour_of_day  \n",
      "count  6877.000000       6877.000000  6877.000000  6877.000000  \n",
      "mean      6.536135        160.271630     2.969027    11.456158  \n",
      "std       2.280831         80.590149     2.004518     6.887022  \n",
      "min       3.000000         20.000000     0.000000     0.000000  \n",
      "25%       5.000000         90.000000     1.000000     5.000000  \n",
      "50%       7.000000        161.000000     3.000000    11.000000  \n",
      "75%       9.000000        228.000000     5.000000    17.000000  \n",
      "max      10.000000        300.000000     6.000000    23.000000  \n",
      "\n",
      "Usuarios únicos: 700 de 6877 filas\n",
      "Sesiones únicas: 6877 de 6877 filas\n"
     ]
    }
   ],
   "source": [
    "# Verificar valores únicos en columnas categóricas para detectar posibles conversiones\n",
    "categorical_cols = [\"user_category\", \"device_type\", \"browser\", \"operating_system\", \"country\"]\n",
    "for col in categorical_cols:\n",
    "    print(f\"{col}: {full_data[col].nunique()} valores únicos\")\n",
    "\n",
    "# Verificar valores únicos en columnas numéricas\n",
    "numeric_cols = [\"age\", \"total_sessions\", \"avg_session_duration\", \"total_page_views\", \"page_views\", \"session_duration\", \"day_of_week\", \"hour_of_day\"]\n",
    "print(\"\\nResumen de valores en columnas numéricas:\")\n",
    "print(full_data[numeric_cols].describe())\n",
    "\n",
    "# Revisar si hay valores duplicados en user_id o session_id\n",
    "print(f\"\\nUsuarios únicos: {full_data['user_id'].nunique()} de {len(full_data)} filas\")\n",
    "print(f\"Sesiones únicas: {full_data['session_id'].nunique()} de {len(full_data)} filas\")\n"
   ]
  },
  {
   "cell_type": "markdown",
   "metadata": {},
   "source": [
    "### Convertimos tipos de datos"
   ]
  },
  {
   "cell_type": "code",
   "execution_count": 28,
   "metadata": {},
   "outputs": [
    {
     "name": "stdout",
     "output_type": "stream",
     "text": [
      "user_id                         object\n",
      "age                              int64\n",
      "abandoned_cart                    bool\n",
      "user_category                 category\n",
      "marketing_target                 int64\n",
      "total_sessions                   int64\n",
      "avg_session_duration           float64\n",
      "total_page_views                 int64\n",
      "session_id                      object\n",
      "timestamp               datetime64[ns]\n",
      "device_type                   category\n",
      "browser                       category\n",
      "operating_system              category\n",
      "ip_address                      object\n",
      "country                         object\n",
      "search_query                    object\n",
      "page_views                       int64\n",
      "session_duration                 int64\n",
      "day_of_week                      int32\n",
      "hour_of_day                      int32\n",
      "dtype: object\n"
     ]
    }
   ],
   "source": [
    "# Convertir a tipo categoría\n",
    "categorical_cols = [\"user_category\", \"device_type\", \"browser\", \"operating_system\"]\n",
    "for col in categorical_cols:\n",
    "    full_data[col] = full_data[col].astype(\"category\")\n",
    "\n",
    "# Verificar cambios en los tipos de datos\n",
    "print(full_data.dtypes)"
   ]
  },
  {
   "cell_type": "markdown",
   "metadata": {},
   "source": [
    "## Histogramas"
   ]
  },
  {
   "cell_type": "code",
   "execution_count": 29,
   "metadata": {},
   "outputs": [
    {
     "data": {
      "text/plain": [
       "Index(['user_id', 'age', 'abandoned_cart', 'user_category', 'marketing_target',\n",
       "       'total_sessions', 'avg_session_duration', 'total_page_views',\n",
       "       'session_id', 'timestamp', 'device_type', 'browser', 'operating_system',\n",
       "       'ip_address', 'country', 'search_query', 'page_views',\n",
       "       'session_duration', 'day_of_week', 'hour_of_day'],\n",
       "      dtype='object')"
      ]
     },
     "execution_count": 29,
     "metadata": {},
     "output_type": "execute_result"
    }
   ],
   "source": [
    "full_data.columns"
   ]
  },
  {
   "cell_type": "code",
   "execution_count": 30,
   "metadata": {},
   "outputs": [
    {
     "data": {
      "image/png": "[encoded data removed]",
      "text/plain": [
       "<Figure size 1500x1000 with 12 Axes>"
      ]
     },
     "metadata": {},
     "output_type": "display_data"
    }
   ],
   "source": [
    "full_data.hist(bins=30, figsize=(15, 10), edgecolor='black')\n",
    "plt.tight_layout()\n",
    "plt.show()"
   ]
  },
  {
   "cell_type": "markdown",
   "metadata": {},
   "source": [
    "## Scatters"
   ]
  },
  {
   "cell_type": "code",
   "execution_count": 31,
   "metadata": {},
   "outputs": [
    {
     "data": {
      "image/png": "[encoded data removed]",
      "text/plain": [
       "<Figure size 1500x800 with 6 Axes>"
      ]
     },
     "metadata": {},
     "output_type": "display_data"
    }
   ],
   "source": [
    "plot_scatter_variables(full_data, target=\"marketing_target\")"
   ]
  },
  {
   "cell_type": "markdown",
   "metadata": {},
   "source": [
    "## Correlation"
   ]
  },
  {
   "cell_type": "code",
   "execution_count": 32,
   "metadata": {},
   "outputs": [
    {
     "data": {
      "image/png": "[encoded data removed]",
      "text/plain": [
       "<Figure size 1200x800 with 2 Axes>"
      ]
     },
     "metadata": {},
     "output_type": "display_data"
    }
   ],
   "source": [
    "plot_correlation_heatmap(full_data)"
   ]
  },
  {
   "cell_type": "markdown",
   "metadata": {},
   "source": [
    "# Análisis inicial dataset `test`"
   ]
  },
  {
   "cell_type": "code",
   "execution_count": 33,
   "metadata": {},
   "outputs": [
    {
     "data": {
      "application/vnd.microsoft.datawrangler.viewer.v0+json": {
       "columns": [
        {
         "name": "index",
         "rawType": "int64",
         "type": "integer"
        },
        {
         "name": "user_id",
         "rawType": "object",
         "type": "string"
        },
        {
         "name": "age",
         "rawType": "int64",
         "type": "integer"
        },
        {
         "name": "abandoned_cart",
         "rawType": "bool",
         "type": "boolean"
        },
        {
         "name": "user_category",
         "rawType": "object",
         "type": "string"
        },
        {
         "name": "test_id",
         "rawType": "int64",
         "type": "integer"
        }
       ],
       "conversionMethod": "pd.DataFrame",
       "ref": "3d6d7cbc-4843-4408-8631-322e8b4903dc",
       "rows": [
        [
         "0",
         "6647f967-609f-4ae3-986b-424ffbf0460a",
         "52",
         "True",
         "new_user",
         "1"
        ],
        [
         "1",
         "ca149ac0-0832-4bcd-8af0-43c2d8f06556",
         "45",
         "True",
         "new_user",
         "2"
        ],
        [
         "2",
         "b0d21d65-e040-418d-af69-0be68b456792",
         "29",
         "False",
         "new_user",
         "3"
        ],
        [
         "3",
         "42519363-3dcf-445a-8116-dced9581cbd7",
         "20",
         "False",
         "recurring_user",
         "4"
        ],
        [
         "4",
         "9d582590-d05e-4c79-8b18-3feb98864927",
         "55",
         "True",
         "recurring_user",
         "5"
        ]
       ],
       "shape": {
        "columns": 5,
        "rows": 5
       }
      },
      "text/html": [
       "<div>\n",
       "<style scoped>\n",
       "    .dataframe tbody tr th:only-of-type {\n",
       "        vertical-align: middle;\n",
       "    }\n",
       "\n",
       "    .dataframe tbody tr th {\n",
       "        vertical-align: top;\n",
       "    }\n",
       "\n",
       "    .dataframe thead th {\n",
       "        text-align: right;\n",
       "    }\n",
       "</style>\n",
       "<table border=\"1\" class=\"dataframe\">\n",
       "  <thead>\n",
       "    <tr style=\"text-align: right;\">\n",
       "      <th></th>\n",
       "      <th>user_id</th>\n",
       "      <th>age</th>\n",
       "      <th>abandoned_cart</th>\n",
       "      <th>user_category</th>\n",
       "      <th>test_id</th>\n",
       "    </tr>\n",
       "  </thead>\n",
       "  <tbody>\n",
       "    <tr>\n",
       "      <th>0</th>\n",
       "      <td>6647f967-609f-4ae3-986b-424ffbf0460a</td>\n",
       "      <td>52</td>\n",
       "      <td>True</td>\n",
       "      <td>new_user</td>\n",
       "      <td>1</td>\n",
       "    </tr>\n",
       "    <tr>\n",
       "      <th>1</th>\n",
       "      <td>ca149ac0-0832-4bcd-8af0-43c2d8f06556</td>\n",
       "      <td>45</td>\n",
       "      <td>True</td>\n",
       "      <td>new_user</td>\n",
       "      <td>2</td>\n",
       "    </tr>\n",
       "    <tr>\n",
       "      <th>2</th>\n",
       "      <td>b0d21d65-e040-418d-af69-0be68b456792</td>\n",
       "      <td>29</td>\n",
       "      <td>False</td>\n",
       "      <td>new_user</td>\n",
       "      <td>3</td>\n",
       "    </tr>\n",
       "    <tr>\n",
       "      <th>3</th>\n",
       "      <td>42519363-3dcf-445a-8116-dced9581cbd7</td>\n",
       "      <td>20</td>\n",
       "      <td>False</td>\n",
       "      <td>recurring_user</td>\n",
       "      <td>4</td>\n",
       "    </tr>\n",
       "    <tr>\n",
       "      <th>4</th>\n",
       "      <td>9d582590-d05e-4c79-8b18-3feb98864927</td>\n",
       "      <td>55</td>\n",
       "      <td>True</td>\n",
       "      <td>recurring_user</td>\n",
       "      <td>5</td>\n",
       "    </tr>\n",
       "  </tbody>\n",
       "</table>\n",
       "</div>"
      ],
      "text/plain": [
       "                                user_id  age  abandoned_cart   user_category  \\\n",
       "0  6647f967-609f-4ae3-986b-424ffbf0460a   52            True        new_user   \n",
       "1  ca149ac0-0832-4bcd-8af0-43c2d8f06556   45            True        new_user   \n",
       "2  b0d21d65-e040-418d-af69-0be68b456792   29           False        new_user   \n",
       "3  42519363-3dcf-445a-8116-dced9581cbd7   20           False  recurring_user   \n",
       "4  9d582590-d05e-4c79-8b18-3feb98864927   55            True  recurring_user   \n",
       "\n",
       "   test_id  \n",
       "0        1  \n",
       "1        2  \n",
       "2        3  \n",
       "3        4  \n",
       "4        5  "
      ]
     },
     "metadata": {},
     "output_type": "display_data"
    },
    {
     "data": {
      "application/vnd.microsoft.datawrangler.viewer.v0+json": {
       "columns": [
        {
         "name": "index",
         "rawType": "int64",
         "type": "integer"
        },
        {
         "name": "user_id",
         "rawType": "object",
         "type": "string"
        },
        {
         "name": "session_id",
         "rawType": "object",
         "type": "string"
        },
        {
         "name": "timestamp",
         "rawType": "object",
         "type": "string"
        },
        {
         "name": "device_type",
         "rawType": "object",
         "type": "string"
        },
        {
         "name": "browser",
         "rawType": "object",
         "type": "string"
        },
        {
         "name": "operating_system",
         "rawType": "object",
         "type": "string"
        },
        {
         "name": "ip_address",
         "rawType": "object",
         "type": "string"
        },
        {
         "name": "country",
         "rawType": "object",
         "type": "string"
        },
        {
         "name": "search_query",
         "rawType": "object",
         "type": "string"
        },
        {
         "name": "page_views",
         "rawType": "int64",
         "type": "integer"
        },
        {
         "name": "session_duration",
         "rawType": "int64",
         "type": "integer"
        }
       ],
       "conversionMethod": "pd.DataFrame",
       "ref": "a2d23b83-5a4f-48d5-a572-042fe8b92d6e",
       "rows": [
        [
         "0",
         "1982e6a0-077b-49f2-bc6e-84411c326f90",
         "f0da5632-1c71-4c93-b2fd-f5423adc063c",
         "2023-08-15 05:58:37",
         "tablet",
         "Edge",
         "Windows",
         "137.193.176.120",
         "Kenya",
         "As program perhaps high.",
         "6",
         "240"
        ],
        [
         "1",
         "1982e6a0-077b-49f2-bc6e-84411c326f90",
         "a48fbcc6-13a5-425c-9c2f-7413d8fd5e51",
         "2023-10-22 22:47:09",
         "desktop",
         "Chrome",
         "Windows",
         "149.188.238.246",
         "Svalbard & Jan Mayen Islands",
         "Goal wonder allow ability get.",
         "8",
         "253"
        ],
        [
         "2",
         "1982e6a0-077b-49f2-bc6e-84411c326f90",
         "3f86b518-2dbd-4f81-b261-f16d6573f035",
         "2023-01-06 21:33:30",
         "mobile",
         "Chrome",
         "Android",
         "218.150.179.144",
         "Hungary",
         "Month vote rich already stock.",
         "7",
         "196"
        ],
        [
         "3",
         "1982e6a0-077b-49f2-bc6e-84411c326f90",
         "14be0db1-c86f-4db0-b4b5-ff1a97615232",
         "2023-10-07 04:50:38",
         "desktop",
         "Edge",
         "macOS",
         "40.157.118.33",
         "United States Virgin Islands",
         "Owner produce bring factor subject shoulder who.",
         "10",
         "126"
        ],
        [
         "4",
         "1982e6a0-077b-49f2-bc6e-84411c326f90",
         "5f5b2da5-4fa2-4877-b930-a57dd6303964",
         "2023-08-25 15:54:55",
         "mobile",
         "Edge",
         "Android",
         "63.173.100.237",
         "Mayotte",
         "Ask key central rate within television appear.",
         "8",
         "138"
        ]
       ],
       "shape": {
        "columns": 11,
        "rows": 5
       }
      },
      "text/html": [
       "<div>\n",
       "<style scoped>\n",
       "    .dataframe tbody tr th:only-of-type {\n",
       "        vertical-align: middle;\n",
       "    }\n",
       "\n",
       "    .dataframe tbody tr th {\n",
       "        vertical-align: top;\n",
       "    }\n",
       "\n",
       "    .dataframe thead th {\n",
       "        text-align: right;\n",
       "    }\n",
       "</style>\n",
       "<table border=\"1\" class=\"dataframe\">\n",
       "  <thead>\n",
       "    <tr style=\"text-align: right;\">\n",
       "      <th></th>\n",
       "      <th>user_id</th>\n",
       "      <th>session_id</th>\n",
       "      <th>timestamp</th>\n",
       "      <th>device_type</th>\n",
       "      <th>browser</th>\n",
       "      <th>operating_system</th>\n",
       "      <th>ip_address</th>\n",
       "      <th>country</th>\n",
       "      <th>search_query</th>\n",
       "      <th>page_views</th>\n",
       "      <th>session_duration</th>\n",
       "    </tr>\n",
       "  </thead>\n",
       "  <tbody>\n",
       "    <tr>\n",
       "      <th>0</th>\n",
       "      <td>1982e6a0-077b-49f2-bc6e-84411c326f90</td>\n",
       "      <td>f0da5632-1c71-4c93-b2fd-f5423adc063c</td>\n",
       "      <td>2023-08-15 05:58:37</td>\n",
       "      <td>tablet</td>\n",
       "      <td>Edge</td>\n",
       "      <td>Windows</td>\n",
       "      <td>137.193.176.120</td>\n",
       "      <td>Kenya</td>\n",
       "      <td>As program perhaps high.</td>\n",
       "      <td>6</td>\n",
       "      <td>240</td>\n",
       "    </tr>\n",
       "    <tr>\n",
       "      <th>1</th>\n",
       "      <td>1982e6a0-077b-49f2-bc6e-84411c326f90</td>\n",
       "      <td>a48fbcc6-13a5-425c-9c2f-7413d8fd5e51</td>\n",
       "      <td>2023-10-22 22:47:09</td>\n",
       "      <td>desktop</td>\n",
       "      <td>Chrome</td>\n",
       "      <td>Windows</td>\n",
       "      <td>149.188.238.246</td>\n",
       "      <td>Svalbard &amp; Jan Mayen Islands</td>\n",
       "      <td>Goal wonder allow ability get.</td>\n",
       "      <td>8</td>\n",
       "      <td>253</td>\n",
       "    </tr>\n",
       "    <tr>\n",
       "      <th>2</th>\n",
       "      <td>1982e6a0-077b-49f2-bc6e-84411c326f90</td>\n",
       "      <td>3f86b518-2dbd-4f81-b261-f16d6573f035</td>\n",
       "      <td>2023-01-06 21:33:30</td>\n",
       "      <td>mobile</td>\n",
       "      <td>Chrome</td>\n",
       "      <td>Android</td>\n",
       "      <td>218.150.179.144</td>\n",
       "      <td>Hungary</td>\n",
       "      <td>Month vote rich already stock.</td>\n",
       "      <td>7</td>\n",
       "      <td>196</td>\n",
       "    </tr>\n",
       "    <tr>\n",
       "      <th>3</th>\n",
       "      <td>1982e6a0-077b-49f2-bc6e-84411c326f90</td>\n",
       "      <td>14be0db1-c86f-4db0-b4b5-ff1a97615232</td>\n",
       "      <td>2023-10-07 04:50:38</td>\n",
       "      <td>desktop</td>\n",
       "      <td>Edge</td>\n",
       "      <td>macOS</td>\n",
       "      <td>40.157.118.33</td>\n",
       "      <td>United States Virgin Islands</td>\n",
       "      <td>Owner produce bring factor subject shoulder who.</td>\n",
       "      <td>10</td>\n",
       "      <td>126</td>\n",
       "    </tr>\n",
       "    <tr>\n",
       "      <th>4</th>\n",
       "      <td>1982e6a0-077b-49f2-bc6e-84411c326f90</td>\n",
       "      <td>5f5b2da5-4fa2-4877-b930-a57dd6303964</td>\n",
       "      <td>2023-08-25 15:54:55</td>\n",
       "      <td>mobile</td>\n",
       "      <td>Edge</td>\n",
       "      <td>Android</td>\n",
       "      <td>63.173.100.237</td>\n",
       "      <td>Mayotte</td>\n",
       "      <td>Ask key central rate within television appear.</td>\n",
       "      <td>8</td>\n",
       "      <td>138</td>\n",
       "    </tr>\n",
       "  </tbody>\n",
       "</table>\n",
       "</div>"
      ],
      "text/plain": [
       "                                user_id                            session_id  \\\n",
       "0  1982e6a0-077b-49f2-bc6e-84411c326f90  f0da5632-1c71-4c93-b2fd-f5423adc063c   \n",
       "1  1982e6a0-077b-49f2-bc6e-84411c326f90  a48fbcc6-13a5-425c-9c2f-7413d8fd5e51   \n",
       "2  1982e6a0-077b-49f2-bc6e-84411c326f90  3f86b518-2dbd-4f81-b261-f16d6573f035   \n",
       "3  1982e6a0-077b-49f2-bc6e-84411c326f90  14be0db1-c86f-4db0-b4b5-ff1a97615232   \n",
       "4  1982e6a0-077b-49f2-bc6e-84411c326f90  5f5b2da5-4fa2-4877-b930-a57dd6303964   \n",
       "\n",
       "             timestamp device_type browser operating_system       ip_address  \\\n",
       "0  2023-08-15 05:58:37      tablet    Edge          Windows  137.193.176.120   \n",
       "1  2023-10-22 22:47:09     desktop  Chrome          Windows  149.188.238.246   \n",
       "2  2023-01-06 21:33:30      mobile  Chrome          Android  218.150.179.144   \n",
       "3  2023-10-07 04:50:38     desktop    Edge            macOS    40.157.118.33   \n",
       "4  2023-08-25 15:54:55      mobile    Edge          Android   63.173.100.237   \n",
       "\n",
       "                        country  \\\n",
       "0                         Kenya   \n",
       "1  Svalbard & Jan Mayen Islands   \n",
       "2                       Hungary   \n",
       "3  United States Virgin Islands   \n",
       "4                       Mayotte   \n",
       "\n",
       "                                       search_query  page_views  \\\n",
       "0                          As program perhaps high.           6   \n",
       "1                    Goal wonder allow ability get.           8   \n",
       "2                    Month vote rich already stock.           7   \n",
       "3  Owner produce bring factor subject shoulder who.          10   \n",
       "4    Ask key central rate within television appear.           8   \n",
       "\n",
       "   session_duration  \n",
       "0               240  \n",
       "1               253  \n",
       "2               196  \n",
       "3               126  \n",
       "4               138  "
      ]
     },
     "metadata": {},
     "output_type": "display_data"
    },
    {
     "name": "stdout",
     "output_type": "stream",
     "text": [
      "\n",
      "Información de user_test:\n",
      "<class 'pandas.core.frame.DataFrame'>\n",
      "RangeIndex: 300 entries, 0 to 299\n",
      "Data columns (total 5 columns):\n",
      " #   Column          Non-Null Count  Dtype \n",
      "---  ------          --------------  ----- \n",
      " 0   user_id         300 non-null    object\n",
      " 1   age             300 non-null    int64 \n",
      " 2   abandoned_cart  300 non-null    bool  \n",
      " 3   user_category   300 non-null    object\n",
      " 4   test_id         300 non-null    int64 \n",
      "dtypes: bool(1), int64(2), object(2)\n",
      "memory usage: 9.8+ KB\n",
      "None\n",
      "\n",
      "Información de session_test:\n",
      "<class 'pandas.core.frame.DataFrame'>\n",
      "RangeIndex: 3026 entries, 0 to 3025\n",
      "Data columns (total 11 columns):\n",
      " #   Column            Non-Null Count  Dtype \n",
      "---  ------            --------------  ----- \n",
      " 0   user_id           3026 non-null   object\n",
      " 1   session_id        3026 non-null   object\n",
      " 2   timestamp         3026 non-null   object\n",
      " 3   device_type       3026 non-null   object\n",
      " 4   browser           3026 non-null   object\n",
      " 5   operating_system  3026 non-null   object\n",
      " 6   ip_address        3026 non-null   object\n",
      " 7   country           3026 non-null   object\n",
      " 8   search_query      3026 non-null   object\n",
      " 9   page_views        3026 non-null   int64 \n",
      " 10  session_duration  3026 non-null   int64 \n",
      "dtypes: int64(2), object(9)\n",
      "memory usage: 260.2+ KB\n",
      "None\n",
      "\n",
      "¿Tiene user_test la columna 'marketing_target'?\n",
      "False\n"
     ]
    }
   ],
   "source": [
    "# Cargar los datos de test\n",
    "user_test = pd.read_csv(\"../test/user_test.csv\", delimiter=\";\")\n",
    "session_test = pd.read_csv(\"../test/session_test.csv\")\n",
    "\n",
    "# Mostrar las primeras filas de cada dataset\n",
    "display(user_test.head(), session_test.head())\n",
    "\n",
    "# Revisar información general\n",
    "print(\"\\nInformación de user_test:\")\n",
    "print(user_test.info())\n",
    "\n",
    "print(\"\\nInformación de session_test:\")\n",
    "print(session_test.info())\n",
    "\n",
    "# Verificar si 'marketing_target' está en los datos de test\n",
    "print(\"\\n¿Tiene user_test la columna 'marketing_target'?\")\n",
    "print(\"marketing_target\" in user_test.columns)\n"
   ]
  },
  {
   "cell_type": "code",
   "execution_count": 34,
   "metadata": {},
   "outputs": [
    {
     "name": "stdout",
     "output_type": "stream",
     "text": [
      "Total de usuarios en test: 300\n",
      "Usuarios en test que también están en train: 0\n",
      "Usuarios nuevos en test (no vistos en train): 300\n"
     ]
    }
   ],
   "source": [
    "# Verificar cuántos usuarios de test están en train\n",
    "usuarios_train = set(user_data[\"user_id\"])\n",
    "usuarios_test = set(user_test[\"user_id\"])\n",
    "\n",
    "usuarios_nuevos = usuarios_test - usuarios_train  # Usuarios en test que no están en train\n",
    "\n",
    "print(f\"Total de usuarios en test: {len(usuarios_test)}\")\n",
    "print(f\"Usuarios en test que también están en train: {len(usuarios_test & usuarios_train)}\")\n",
    "print(f\"Usuarios nuevos en test (no vistos en train): {len(usuarios_nuevos)}\")\n"
   ]
  },
  {
   "cell_type": "markdown",
   "metadata": {},
   "source": [
    "# Selección de características en train."
   ]
  },
  {
   "cell_type": "markdown",
   "metadata": {},
   "source": [
    "## Feature importance"
   ]
  },
  {
   "cell_type": "code",
   "execution_count": 35,
   "metadata": {},
   "outputs": [
    {
     "data": {
      "image/png": "[encoded data removed]",
      "text/plain": [
       "<Figure size 800x500 with 1 Axes>"
      ]
     },
     "metadata": {},
     "output_type": "display_data"
    }
   ],
   "source": [
    "from sklearn.ensemble import RandomForestClassifier\n",
    "from sklearn.preprocessing import LabelEncoder\n",
    "from sklearn.model_selection import train_test_split\n",
    "import numpy as np\n",
    "\n",
    "# 1️⃣ Preparar los datos\n",
    "features = [\"age\", \"abandoned_cart\", \"user_category\", \"total_sessions\", \"avg_session_duration\", \n",
    "            \"total_page_views\", \"page_views\", \"session_duration\", \"day_of_week\", \"hour_of_day\"]\n",
    "\n",
    "# Convertir variables categóricas en numéricas\n",
    "label_encoders = {}\n",
    "for col in [\"user_category\"]:\n",
    "    le = LabelEncoder()\n",
    "    full_data[col] = le.fit_transform(full_data[col])  # Guardamos el encoder para aplicarlo a test después\n",
    "    label_encoders[col] = le\n",
    "\n",
    "# Definir X (características) e y (target)\n",
    "X = full_data[features]\n",
    "y = full_data[\"marketing_target\"]\n",
    "\n",
    "# Dividir en train y validación\n",
    "X_train, X_val, y_train, y_val = train_test_split(X, y, test_size=0.2, random_state=42, stratify=y)\n",
    "\n",
    "# 2️⃣ Entrenar un Random Forest\n",
    "rf_model = RandomForestClassifier(n_estimators=100, random_state=42)\n",
    "rf_model.fit(X_train, y_train)\n",
    "\n",
    "# 3️⃣ Visualizar la importancia de las características\n",
    "importances = rf_model.feature_importances_\n",
    "sorted_indices = np.argsort(importances)[::-1]  # Ordenar de mayor a menor importancia\n",
    "\n",
    "# Mostrar la importancia de las variables\n",
    "plt.figure(figsize=(8, 5))\n",
    "sns.barplot(x=importances[sorted_indices], y=np.array(features)[sorted_indices])\n",
    "plt.title(\"Importancia de las Características en Random Forest\")\n",
    "plt.xlabel(\"Importancia\")\n",
    "plt.ylabel(\"Característica\")\n",
    "plt.show()\n"
   ]
  },
  {
   "cell_type": "markdown",
   "metadata": {},
   "source": [
    "### Reevaluación de las correlaciones y distribuciones\n",
    "\n",
    "#### Matriz de correlación  \n",
    "1. **Confirmamos que `avg_session_duration` es la variable más correlacionada con `marketing_target` (0.42)** → Refuerza la importancia de esta variable en la predicción.  \n",
    "2. **`total_sessions` y `total_page_views` están fuertemente correlacionadas (0.93)** → Son casi redundantes, por lo que podríamos eliminar una.  \n",
    "3. **Las demás variables tienen correlaciones muy bajas con `marketing_target`** → `age`, `day_of_week`, `page_views`, `session_duration` y `abandoned_cart` no parecen ser muy predictivas.  \n",
    "\n",
    "#### Histogramas\n",
    "1. **`avg_session_duration` tiene una distribución aproximadamente normal**, lo que sugiere que puede funcionar bien en modelos lineales y árboles de decisión.  \n",
    "2. **`total_sessions` y `total_page_views` tienen distribuciones sesgadas**, lo que podría beneficiarse de una transformación logarítmica.  \n",
    "3. **`page_views` tiene pocos valores distintos**, lo que sugiere que no aporta mucha variabilidad al modelo.  \n",
    "4. **`marketing_target` está fuertemente desbalanceado** → Podríamos considerar estrategias de balanceo para mejorar el rendimiento del modelo.  \n",
    "\n",
    "###  Conclusiones y siguientes pasos\n",
    "#### Variables a mantener  \n",
    "✅ `avg_session_duration` → Mayor correlación y buena distribución.  \n",
    "✅ `total_sessions` o `total_page_views` → Mantener solo una de ellas (probablemente `total_page_views`).  \n",
    "✅ `age` → Aunque su correlación es baja, su importancia en el RF sugiere que puede aportar información útil.  \n",
    "✅ `user_category` → Aunque su importancia en RF es baja, sigue siendo una variable categórica clave.  \n",
    "\n",
    "#### Variables a descartar o transformar \n",
    "🔹 `day_of_week`, `hour_of_day`, `abandoned_cart`, `page_views`, `session_duration` → No aportan suficiente información.  \n",
    "🔹 `total_sessions` o `total_page_views` → Elegir una y descartar la otra por colinealidad.  \n",
    "🔹 Aplicar una **transformación logarítmica** a `total_page_views` si la mantenemos.  "
   ]
  },
  {
   "cell_type": "markdown",
   "metadata": {},
   "source": [
    "# Benchmark"
   ]
  },
  {
   "cell_type": "code",
   "execution_count": 36,
   "metadata": {},
   "outputs": [
    {
     "name": "stdout",
     "output_type": "stream",
     "text": [
      "🔹 **Benchmark Random Forest Metrics**\n",
      "Accuracy: 0.9971\n",
      "F1 Score (macro): 0.9949\n",
      "F1 Score (weighted): 0.9971\n",
      "\n",
      "Classification Report:\n",
      "               precision    recall  f1-score   support\n",
      "\n",
      "           1       1.00      1.00      1.00      1055\n",
      "           2       1.00      0.99      1.00       202\n",
      "           3       1.00      0.98      0.99       119\n",
      "\n",
      "    accuracy                           1.00      1376\n",
      "   macro avg       1.00      0.99      0.99      1376\n",
      "weighted avg       1.00      1.00      1.00      1376\n",
      "\n"
     ]
    },
    {
     "data": {
      "image/png": "[encoded data removed]",
      "text/plain": [
       "<Figure size 500x400 with 2 Axes>"
      ]
     },
     "metadata": {},
     "output_type": "display_data"
    }
   ],
   "source": [
    "from sklearn.ensemble import RandomForestClassifier\n",
    "from sklearn.preprocessing import LabelEncoder\n",
    "from sklearn.model_selection import train_test_split\n",
    "from sklearn.metrics import classification_report, f1_score, accuracy_score, confusion_matrix\n",
    "import seaborn as sns\n",
    "import matplotlib.pyplot as plt\n",
    "import numpy as np\n",
    "\n",
    "# 1️⃣ Preparar los datos\n",
    "features = [\"age\", \"abandoned_cart\", \"user_category\", \"total_sessions\", \"avg_session_duration\", \n",
    "            \"total_page_views\", \"page_views\", \"session_duration\", \"day_of_week\", \"hour_of_day\"]\n",
    "\n",
    "# Convertir variables categóricas en numéricas\n",
    "label_encoders = {}\n",
    "for col in [\"user_category\"]:\n",
    "    le = LabelEncoder()\n",
    "    full_data[col] = le.fit_transform(full_data[col])  \n",
    "    label_encoders[col] = le\n",
    "\n",
    "# Definir X (características) e y (target)\n",
    "X = full_data[features]\n",
    "y = full_data[\"marketing_target\"]\n",
    "\n",
    "# Dividir en train y validación (80-20)\n",
    "X_train, X_val, y_train, y_val = train_test_split(X, y, test_size=0.2, random_state=42, stratify=y)\n",
    "\n",
    "# 2️⃣ Entrenar un Random Forest básico\n",
    "rf_model = RandomForestClassifier(n_estimators=100, random_state=42)\n",
    "rf_model.fit(X_train, y_train)\n",
    "\n",
    "# 3️⃣ Predicciones\n",
    "y_pred = rf_model.predict(X_val)\n",
    "\n",
    "# 4️⃣ Evaluación del modelo\n",
    "print(\"🔹 **Benchmark Random Forest Metrics**\")\n",
    "print(f\"Accuracy: {accuracy_score(y_val, y_pred):.4f}\")\n",
    "print(f\"F1 Score (macro): {f1_score(y_val, y_pred, average='macro'):.4f}\")\n",
    "print(f\"F1 Score (weighted): {f1_score(y_val, y_pred, average='weighted'):.4f}\")\n",
    "print(\"\\nClassification Report:\\n\", classification_report(y_val, y_pred))\n",
    "\n",
    "# 5️⃣ Matriz de Confusión\n",
    "plt.figure(figsize=(5,4))\n",
    "sns.heatmap(confusion_matrix(y_val, y_pred), annot=True, fmt=\"d\", cmap=\"Blues\", xticklabels=[1, 2, 3], yticklabels=[1, 2, 3])\n",
    "plt.xlabel(\"Predicted\")\n",
    "plt.ylabel(\"Actual\")\n",
    "plt.title(\"Matriz de Confusión - Random Forest Benchmark\")\n",
    "plt.show()\n"
   ]
  },
  {
   "cell_type": "markdown",
   "metadata": {},
   "source": [
    "# Cross Validation"
   ]
  },
  {
   "cell_type": "code",
   "execution_count": 37,
   "metadata": {},
   "outputs": [
    {
     "name": "stdout",
     "output_type": "stream",
     "text": [
      "🔹 **Resultados de Validación Cruzada (5-Fold)**\n",
      "F1 Score (macro) - Promedio: 0.9911 | Desviación: 0.0053\n",
      "Accuracy - Promedio: 0.9952 | Desviación: 0.0028\n"
     ]
    }
   ],
   "source": [
    "from sklearn.model_selection import cross_val_score, StratifiedKFold\n",
    "from sklearn.ensemble import RandomForestClassifier\n",
    "from sklearn.preprocessing import LabelEncoder\n",
    "import numpy as np\n",
    "\n",
    "# 1️⃣ Definir features y preparar los datos\n",
    "features = [\"age\", \"abandoned_cart\", \"user_category\", \"total_sessions\", \"avg_session_duration\", \n",
    "            \"total_page_views\", \"page_views\", \"session_duration\", \"day_of_week\", \"hour_of_day\"]\n",
    "\n",
    "# Convertir variables categóricas en numéricas\n",
    "label_encoders = {}\n",
    "for col in [\"user_category\"]:\n",
    "    le = LabelEncoder()\n",
    "    full_data[col] = le.fit_transform(full_data[col])  \n",
    "    label_encoders[col] = le\n",
    "\n",
    "# Definir X (features) e y (target)\n",
    "X = full_data[features]\n",
    "y = full_data[\"marketing_target\"]\n",
    "\n",
    "# 2️⃣ Configurar Stratified K-Fold (5 folds)\n",
    "cv = StratifiedKFold(n_splits=5, shuffle=True, random_state=42)\n",
    "\n",
    "# 3️⃣ Entrenar Random Forest con validación cruzada\n",
    "rf_model = RandomForestClassifier(n_estimators=100, random_state=42)\n",
    "\n",
    "# Calcular métricas con CV\n",
    "f1_macro_scores = cross_val_score(rf_model, X, y, cv=cv, scoring='f1_macro')\n",
    "accuracy_scores = cross_val_score(rf_model, X, y, cv=cv, scoring='accuracy')\n",
    "\n",
    "# 4️⃣ Mostrar resultados\n",
    "print(\"🔹 **Resultados de Validación Cruzada (5-Fold)**\")\n",
    "print(f\"F1 Score (macro) - Promedio: {np.mean(f1_macro_scores):.4f} | Desviación: {np.std(f1_macro_scores):.4f}\")\n",
    "print(f\"Accuracy - Promedio: {np.mean(accuracy_scores):.4f} | Desviación: {np.std(accuracy_scores):.4f}\")\n"
   ]
  },
  {
   "cell_type": "markdown",
   "metadata": {},
   "source": [
    "# Prueba de generación de Json con Test\n"
   ]
  },
  {
   "cell_type": "markdown",
   "metadata": {},
   "source": [
    "## Alineamos los datasets de test con `full_data`"
   ]
  },
  {
   "cell_type": "code",
   "execution_count": 38,
   "metadata": {},
   "outputs": [
    {
     "name": "stdout",
     "output_type": "stream",
     "text": [
      "<class 'pandas.core.frame.DataFrame'>\n",
      "RangeIndex: 6877 entries, 0 to 6876\n",
      "Data columns (total 20 columns):\n",
      " #   Column                Non-Null Count  Dtype         \n",
      "---  ------                --------------  -----         \n",
      " 0   user_id               6877 non-null   object        \n",
      " 1   age                   6877 non-null   int64         \n",
      " 2   abandoned_cart        6877 non-null   bool          \n",
      " 3   user_category         6877 non-null   int64         \n",
      " 4   marketing_target      6877 non-null   int64         \n",
      " 5   total_sessions        6877 non-null   int64         \n",
      " 6   avg_session_duration  6877 non-null   float64       \n",
      " 7   total_page_views      6877 non-null   int64         \n",
      " 8   session_id            6877 non-null   object        \n",
      " 9   timestamp             6877 non-null   datetime64[ns]\n",
      " 10  device_type           6877 non-null   category      \n",
      " 11  browser               6877 non-null   category      \n",
      " 12  operating_system      6877 non-null   category      \n",
      " 13  ip_address            6877 non-null   object        \n",
      " 14  country               6877 non-null   object        \n",
      " 15  search_query          6877 non-null   object        \n",
      " 16  page_views            6877 non-null   int64         \n",
      " 17  session_duration      6877 non-null   int64         \n",
      " 18  day_of_week           6877 non-null   int32         \n",
      " 19  hour_of_day           6877 non-null   int32         \n",
      "dtypes: bool(1), category(3), datetime64[ns](1), float64(1), int32(2), int64(7), object(5)\n",
      "memory usage: 833.4+ KB\n"
     ]
    }
   ],
   "source": [
    "full_data.info()"
   ]
  },
  {
   "cell_type": "code",
   "execution_count": 39,
   "metadata": {},
   "outputs": [
    {
     "name": "stdout",
     "output_type": "stream",
     "text": [
      "<class 'pandas.core.frame.DataFrame'>\n",
      "RangeIndex: 3026 entries, 0 to 3025\n",
      "Data columns (total 11 columns):\n",
      " #   Column            Non-Null Count  Dtype \n",
      "---  ------            --------------  ----- \n",
      " 0   user_id           3026 non-null   object\n",
      " 1   session_id        3026 non-null   object\n",
      " 2   timestamp         3026 non-null   object\n",
      " 3   device_type       3026 non-null   object\n",
      " 4   browser           3026 non-null   object\n",
      " 5   operating_system  3026 non-null   object\n",
      " 6   ip_address        3026 non-null   object\n",
      " 7   country           3026 non-null   object\n",
      " 8   search_query      3026 non-null   object\n",
      " 9   page_views        3026 non-null   int64 \n",
      " 10  session_duration  3026 non-null   int64 \n",
      "dtypes: int64(2), object(9)\n",
      "memory usage: 260.2+ KB\n"
     ]
    }
   ],
   "source": [
    "session_test.info()"
   ]
  },
  {
   "cell_type": "code",
   "execution_count": 40,
   "metadata": {},
   "outputs": [
    {
     "name": "stdout",
     "output_type": "stream",
     "text": [
      "<class 'pandas.core.frame.DataFrame'>\n",
      "RangeIndex: 300 entries, 0 to 299\n",
      "Data columns (total 5 columns):\n",
      " #   Column          Non-Null Count  Dtype \n",
      "---  ------          --------------  ----- \n",
      " 0   user_id         300 non-null    object\n",
      " 1   age             300 non-null    int64 \n",
      " 2   abandoned_cart  300 non-null    bool  \n",
      " 3   user_category   300 non-null    object\n",
      " 4   test_id         300 non-null    int64 \n",
      "dtypes: bool(1), int64(2), object(2)\n",
      "memory usage: 9.8+ KB\n"
     ]
    }
   ],
   "source": [
    "user_test.info()"
   ]
  },
  {
   "cell_type": "markdown",
   "metadata": {},
   "source": [
    "### Creación de X_test y X_train"
   ]
  },
  {
   "cell_type": "code",
   "execution_count": 41,
   "metadata": {},
   "outputs": [
    {
     "name": "stdout",
     "output_type": "stream",
     "text": [
      "Columnas en train: ['age', 'abandoned_cart', 'user_category', 'total_sessions', 'avg_session_duration', 'total_page_views', 'page_views', 'session_duration', 'day_of_week', 'hour_of_day']\n",
      "Columnas en test: ['age', 'abandoned_cart', 'user_category', 'total_sessions', 'avg_session_duration', 'total_page_views', 'page_views', 'session_duration', 'day_of_week', 'hour_of_day']\n",
      "Categorías en train: [0 1 2]\n",
      "Categorías en test antes del merge: [0 1 2]\n",
      "Categorías en user_test_merged después del merge: [0 1 2]\n"
     ]
    }
   ],
   "source": [
    "# 1️⃣ Ajustar LabelEncoder con las clases originales en train\n",
    "original_categories = [\"new_user\", \"recurring_user\", \"premium_subscriber\"]  # Las categorías originales en train\n",
    "label_encoders[\"user_category\"].classes_ = np.array(original_categories)  # Forzamos las clases correctas\n",
    "\n",
    "# 2️⃣ Aplicar LabelEncoder a user_test ANTES del merge\n",
    "user_test[\"user_category\"] = label_encoders[\"user_category\"].transform(user_test[\"user_category\"])\n",
    "\n",
    "# 3️⃣ Convertir el timestamp a datetime en session_test\n",
    "session_test[\"timestamp\"] = pd.to_datetime(session_test[\"timestamp\"])\n",
    "\n",
    "# Extraer características de fecha\n",
    "session_test[\"day_of_week\"] = session_test[\"timestamp\"].dt.dayofweek\n",
    "session_test[\"hour_of_day\"] = session_test[\"timestamp\"].dt.hour\n",
    "\n",
    "# 4️⃣ Agregar información de sesiones por usuario\n",
    "session_features = session_test.groupby(\"user_id\").agg(\n",
    "    total_sessions=(\"session_id\", \"count\"),\n",
    "    avg_session_duration=(\"session_duration\", \"mean\"),\n",
    "    total_page_views=(\"page_views\", \"sum\"),\n",
    "    page_views=(\"page_views\", \"sum\"),  \n",
    "    session_duration=(\"session_duration\", \"sum\"),\n",
    "    day_of_week=(\"day_of_week\", \"median\"),\n",
    "    hour_of_day=(\"hour_of_day\", \"median\")\n",
    ").reset_index()\n",
    "\n",
    "# 5️⃣ Unir los datos de usuario con la información agregada de sesiones\n",
    "user_test_merged = user_test.merge(session_features, on=\"user_id\", how=\"left\")\n",
    "\n",
    "# 6️⃣ Rellenar valores nulos con la media de train\n",
    "user_test_merged[\"total_sessions\"] = user_test_merged[\"total_sessions\"].fillna(full_data[\"total_sessions\"].mean())\n",
    "user_test_merged[\"avg_session_duration\"] = user_test_merged[\"avg_session_duration\"].fillna(full_data[\"avg_session_duration\"].mean())\n",
    "user_test_merged[\"total_page_views\"] = user_test_merged[\"total_page_views\"].fillna(full_data[\"total_page_views\"].mean())\n",
    "user_test_merged[\"page_views\"] = user_test_merged[\"page_views\"].fillna(full_data[\"page_views\"].mean())\n",
    "user_test_merged[\"session_duration\"] = user_test_merged[\"session_duration\"].fillna(full_data[\"session_duration\"].mean())\n",
    "user_test_merged[\"day_of_week\"] = user_test_merged[\"day_of_week\"].fillna(full_data[\"day_of_week\"].median())\n",
    "user_test_merged[\"hour_of_day\"] = user_test_merged[\"hour_of_day\"].fillna(full_data[\"hour_of_day\"].median())\n",
    "\n",
    "# 7️⃣ Seleccionar solo las columnas necesarias para predecir\n",
    "features_test = [\"age\", \"abandoned_cart\", \"user_category\", \"total_sessions\", \"avg_session_duration\", \n",
    "                 \"total_page_views\", \"page_views\", \"session_duration\", \"day_of_week\", \"hour_of_day\"]\n",
    "\n",
    "X_test = user_test_merged[features_test]\n",
    "\n",
    "# 8️⃣ Verificar que las categorías de test ahora son correctas\n",
    "print(f\"Columnas en train: {list(X_train.columns)}\")\n",
    "print(f\"Columnas en test: {list(X_test.columns)}\")\n",
    "\n",
    "print(f\"Categorías en train: {np.unique(full_data['user_category'])}\")\n",
    "print(f\"Categorías en test antes del merge: {np.unique(user_test['user_category'])}\")\n",
    "print(f\"Categorías en user_test_merged después del merge: {np.unique(user_test_merged['user_category'])}\")\n"
   ]
  },
  {
   "cell_type": "markdown",
   "metadata": {},
   "source": [
    "## Generación Json"
   ]
  },
  {
   "cell_type": "code",
   "execution_count": 42,
   "metadata": {},
   "outputs": [
    {
     "name": "stdout",
     "output_type": "stream",
     "text": [
      "✅ Archivo predictions.json generado correctamente.\n"
     ]
    }
   ],
   "source": [
    "# 1️⃣ Entrenar el modelo con TODOS los datos de train después de la validación cruzada\n",
    "rf_model.fit(X, y)  # Ahora sí estará entrenado\n",
    "\n",
    "# 2️⃣ Generar predicciones para test\n",
    "y_test_pred = rf_model.predict(X_test)\n",
    "\n",
    "# 3️⃣ Guardar en JSON\n",
    "import json\n",
    "\n",
    "predictions_dict = {\n",
    "    \"target\": {int(k): int(v) for k, v in zip(user_test[\"test_id\"], y_test_pred)}\n",
    "}\n",
    "\n",
    "with open(\"predictions.json\", \"w\") as f:\n",
    "    json.dump(predictions_dict, f)\n",
    "\n",
    "print(\"✅ Archivo predictions.json generado correctamente.\")"
   ]
  },
  {
   "cell_type": "markdown",
   "metadata": {},
   "source": []
  }
 ],
 "metadata": {
  "kernelspec": {
   "display_name": ".env",
   "language": "python",
   "name": "python3"
  },
  "language_info": {
   "codemirror_mode": {
    "name": "ipython",
    "version": 3
   },
   "file_extension": ".py",
   "mimetype": "text/x-python",
   "name": "python",
   "nbconvert_exporter": "python",
   "pygments_lexer": "ipython3",
   "version": "3.10.12"
  }
 },
 "nbformat": 4,
 "nbformat_minor": 2
}
